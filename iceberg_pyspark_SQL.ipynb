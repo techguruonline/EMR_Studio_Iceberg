{
 "cells": [
  {
   "cell_type": "markdown",
   "metadata": {},
   "source": [
    "## Reference Material\n",
    "\n",
    "[EMR Iceberg Documentation](https://docs.aws.amazon.com/emr/latest/ReleaseGuide/emr-iceberg.html)\n"
   ]
  },
  {
   "cell_type": "markdown",
   "metadata": {},
   "source": [
    "## Configuration"
   ]
  },
  {
   "cell_type": "markdown",
   "metadata": {},
   "source": [
    "EMR Cluster details used for creating this notebook:\n",
    "\n",
    "Node: m5.xlarge (single node)\n",
    "EMR Version: mer-6.8.0\n",
    "Iceberg Version: 0.14.0-amzn-0\n",
    "Spark Version: 3.3.0\n",
    "\n",
    "#### To run this notebook:\n",
    "> 1. Launch an EMR 6.5+ cluster in one of the subnets on which this EMR Studio is running. (**Iceberg support started with EMR 6.5.0**)\n",
    "> 2. Launch the cluster with the following configuration classifications:\n",
    "        [\n",
    "          {\n",
    "            \"Classification\": \"iceberg-defaults \",\n",
    "            \"Properties\": {\n",
    "              \"iceberg.enabled\":\"true\"\n",
    "            }\n",
    "          },\n",
    "          {\n",
    "            \"Classification\": \"spark-hive-site \",\n",
    "            \"Properties\": {\n",
    "              \"hive.metastore.client.factory.class\":        \n",
    "                 \"com.amazonaws.glue.catalog.metastore.AWSGlueDataCatalogHiveClientFactory\"\n",
    "            }\n",
    "          }\n",
    "        ]\n",
    "**Note:** The first classification enables Iceberg. The second one configures Glue Catalog as the Metastore for Spark applications in this cluster.\n",
    "\n",
    "Here is a sample CLI command to create an EMR cluster. Do remember to replace EMR-STUDIO-SUBNET with one of the subnets in which your EMR Studio is running:\n",
    "\n",
    "      aws emr create-cluster \\\n",
    "          --name iceberg-emr-cluster\\\n",
    "          --use-default-roles \\\n",
    "          --release-label emr-6.8.0 \\\n",
    "          --instance-count 1 \\\n",
    "          --instance-type m5.xlarge \\\n",
    "          --applications Name=Hadoop Name=Livy Name=Spark Name=JupyterEnterpriseGateway \\\n",
    "          --ec2-attributes SubnetId=<EMR-STUDIO-SUBNET>\\\n",
    "          --configurations '[{\"Classification\":\"iceberg-defaults\",\"Properties\":{\"iceberg.enabled\":\"true\"}},{\"Classification\":\"spark-hive-site\",\"Properties\":{\"hive.metastore.client.factory.class\":\"com.amazonaws.glue.catalog.metastore.AWSGlueDataCatalogHiveClientFactory\"}}]'\n",
    "         "
   ]
  },
  {
   "cell_type": "markdown",
   "metadata": {},
   "source": [
    "Update the S3 path below ``` \"spark.sql.catalog.dev.warehouse\": ``` as part of the configuration"
   ]
  },
  {
   "cell_type": "code",
   "execution_count": 1,
   "metadata": {
    "execution": {
     "iopub.execute_input": "2022-10-16T20:29:13.094843Z",
     "iopub.status.busy": "2022-10-16T20:29:13.094619Z",
     "iopub.status.idle": "2022-10-16T20:29:13.120383Z",
     "shell.execute_reply": "2022-10-16T20:29:13.119839Z",
     "shell.execute_reply.started": "2022-10-16T20:29:13.094819Z"
    },
    "tags": []
   },
   "outputs": [
    {
     "data": {
      "text/html": [
       "Current session configs: <tt>{'conf': {'spark.sql.extensions': 'org.apache.iceberg.spark.extensions.IcebergSparkSessionExtensions', 'spark.sql.catalog.dev': 'org.apache.iceberg.spark.SparkCatalog', 'spark.sql.catalog.dev.warehouse': 's3://emr-studio-demo-s3bucket-5he9azv0zpew/iceberg/', 'spark.sql.catalog.dev.catalog-impl': 'org.apache.iceberg.aws.glue.GlueCatalog', 'spark.sql.catalog.dev.io-impl': 'org.apache.iceberg.aws.s3.S3FileIO', 'spark.sql.catalog.dev.lock-impl': 'org.apache.iceberg.aws.glue.DynamoLockManager', 'spark.sql.catalog.dev.lock.table': 'myGlueLockTable'}, 'proxyUser': 'assumed-role_user-role-EMR-studio_emr-studio-user', 'kind': 'pyspark'}</tt><br>"
      ],
      "text/plain": [
       "<IPython.core.display.HTML object>"
      ]
     },
     "metadata": {},
     "output_type": "display_data"
    },
    {
     "data": {
      "text/html": [
       "<table>\n",
       "<tbody><tr><th>ID</th><th>YARN Application ID</th><th>Kind</th><th>State</th><th>Spark UI</th><th>Driver log</th><th>User</th><th>Current session?</th></tr><tr><td>0</td><td>application_1665933496980_0001</td><td>pyspark</td><td>idle</td><td><a target=\"_blank\" href=\"http://ip-10-0-0-5.ec2.internal:20888/proxy/application_1665933496980_0001/\" class=\"emr-proxy-link j-3KJ6YHFXOCEFS application_1665933496980_0001\" emr-resource=\"j-3KJ6YHFXOCEFS\n",
       "\" application-id=\"application_1665933496980_0001\">Link</a></td><td><a target=\"_blank\" href=\"http://ip-10-0-0-5.ec2.internal:8042/node/containerlogs/container_1665933496980_0001_01_000001/livy\">Link</a></td><td>None</td><td></td></tr></tbody></table>"
      ],
      "text/plain": [
       "<IPython.core.display.HTML object>"
      ]
     },
     "metadata": {},
     "output_type": "display_data"
    }
   ],
   "source": [
    "%%configure -f\n",
    "{\n",
    "    \"conf\":{\n",
    "        \"spark.sql.extensions\":\"org.apache.iceberg.spark.extensions.IcebergSparkSessionExtensions\",\n",
    "        \"spark.sql.catalog.dev\":\"org.apache.iceberg.spark.SparkCatalog\",\n",
    "        \"spark.sql.catalog.dev.warehouse\":\"s3://emr-studio-demo-s3bucket-5he9azv0zpew/iceberg/\",\n",
    "        \"spark.sql.catalog.dev.catalog-impl\":\"org.apache.iceberg.aws.glue.GlueCatalog\",\n",
    "        \"spark.sql.catalog.dev.io-impl\":\"org.apache.iceberg.aws.s3.S3FileIO\",\n",
    "        \"spark.sql.catalog.dev.lock-impl\":\"org.apache.iceberg.aws.glue.DynamoLockManager\",\n",
    "        \"spark.sql.catalog.dev.lock.table\":\"myGlueLockTable\"\n",
    "        }\n",
    "}"
   ]
  },
  {
   "cell_type": "markdown",
   "metadata": {},
   "source": [
    "Set a variable equal to the name of the S3 bucket to read / write from"
   ]
  },
  {
   "cell_type": "code",
   "execution_count": 2,
   "metadata": {
    "execution": {
     "iopub.execute_input": "2022-10-16T20:29:16.569249Z",
     "iopub.status.busy": "2022-10-16T20:29:16.569014Z",
     "iopub.status.idle": "2022-10-16T20:29:42.163923Z",
     "shell.execute_reply": "2022-10-16T20:29:42.163355Z",
     "shell.execute_reply.started": "2022-10-16T20:29:16.569223Z"
    },
    "tags": []
   },
   "outputs": [
    {
     "data": {
      "application/vnd.jupyter.widget-view+json": {
       "model_id": "ffe1f9d6164f48e8905e3f91948ba44a",
       "version_major": 2,
       "version_minor": 0
      },
      "text/plain": [
       "VBox()"
      ]
     },
     "metadata": {},
     "output_type": "display_data"
    },
    {
     "name": "stdout",
     "output_type": "stream",
     "text": [
      "Starting Spark application\n"
     ]
    },
    {
     "data": {
      "text/html": [
       "<table>\n",
       "<tbody><tr><th>ID</th><th>YARN Application ID</th><th>Kind</th><th>State</th><th>Spark UI</th><th>Driver log</th><th>User</th><th>Current session?</th></tr><tr><td>10</td><td>application_1665933496980_0011</td><td>pyspark</td><td>idle</td><td><a target=\"_blank\" href=\"http://ip-10-0-0-5.ec2.internal:20888/proxy/application_1665933496980_0011/\" class=\"emr-proxy-link j-3KJ6YHFXOCEFS application_1665933496980_0011\" emr-resource=\"j-3KJ6YHFXOCEFS\n",
       "\" application-id=\"application_1665933496980_0011\">Link</a></td><td><a target=\"_blank\" href=\"http://ip-10-0-0-5.ec2.internal:8042/node/containerlogs/container_1665933496980_0011_01_000001/livy\">Link</a></td><td>None</td><td>✔</td></tr></tbody></table>"
      ],
      "text/plain": [
       "<IPython.core.display.HTML object>"
      ]
     },
     "metadata": {},
     "output_type": "display_data"
    },
    {
     "data": {
      "application/vnd.jupyter.widget-view+json": {
       "model_id": "",
       "version_major": 2,
       "version_minor": 0
      },
      "text/plain": [
       "FloatProgress(value=0.0, bar_style='info', description='Progress:', layout=Layout(height='25px', width='50%'),…"
      ]
     },
     "metadata": {},
     "output_type": "display_data"
    },
    {
     "name": "stdout",
     "output_type": "stream",
     "text": [
      "SparkSession available as 'spark'.\n"
     ]
    },
    {
     "data": {
      "application/vnd.jupyter.widget-view+json": {
       "model_id": "",
       "version_major": 2,
       "version_minor": 0
      },
      "text/plain": [
       "FloatProgress(value=0.0, bar_style='info', description='Progress:', layout=Layout(height='25px', width='50%'),…"
      ]
     },
     "metadata": {},
     "output_type": "display_data"
    }
   ],
   "source": [
    "s3_bucket_name = \"emr-studio-demo-s3bucket-5he9azv0zpew\""
   ]
  },
  {
   "cell_type": "code",
   "execution_count": 3,
   "metadata": {
    "execution": {
     "iopub.execute_input": "2022-10-16T20:29:43.763154Z",
     "iopub.status.busy": "2022-10-16T20:29:43.762903Z",
     "iopub.status.idle": "2022-10-16T20:29:43.810549Z",
     "shell.execute_reply": "2022-10-16T20:29:43.810005Z",
     "shell.execute_reply.started": "2022-10-16T20:29:43.763127Z"
    },
    "tags": []
   },
   "outputs": [
    {
     "data": {
      "application/vnd.jupyter.widget-view+json": {
       "model_id": "22980d0c48a44b8ebc2123498b270c48",
       "version_major": 2,
       "version_minor": 0
      },
      "text/plain": [
       "VBox()"
      ]
     },
     "metadata": {},
     "output_type": "display_data"
    },
    {
     "data": {
      "application/vnd.jupyter.widget-view+json": {
       "model_id": "",
       "version_major": 2,
       "version_minor": 0
      },
      "text/plain": [
       "FloatProgress(value=0.0, bar_style='info', description='Progress:', layout=Layout(height='25px', width='50%'),…"
      ]
     },
     "metadata": {},
     "output_type": "display_data"
    }
   ],
   "source": [
    "from pyspark.sql.functions import *\n",
    "from pyspark.sql.types import *\n",
    "\n",
    "from datetime import datetime"
   ]
  },
  {
   "cell_type": "markdown",
   "metadata": {},
   "source": [
    "## Create an Iceberg Table and run SQL queries using PySpark and ANSI SQL\n",
    "### Have shown each step using both SQL and PySpark, please use Either SQL or PySpark end to end and DO NOT mix between them for a smooth flow "
   ]
  },
  {
   "cell_type": "code",
   "execution_count": 4,
   "metadata": {
    "execution": {
     "iopub.execute_input": "2022-10-16T20:29:46.284299Z",
     "iopub.status.busy": "2022-10-16T20:29:46.284076Z",
     "iopub.status.idle": "2022-10-16T20:29:51.625718Z",
     "shell.execute_reply": "2022-10-16T20:29:51.624937Z",
     "shell.execute_reply.started": "2022-10-16T20:29:46.284272Z"
    },
    "tags": []
   },
   "outputs": [
    {
     "data": {
      "application/vnd.jupyter.widget-view+json": {
       "model_id": "",
       "version_major": 2,
       "version_minor": 0
      },
      "text/plain": [
       "FloatProgress(value=0.0, bar_style='info', description='Progress:', layout=Layout(height='25px', width='50%'),…"
      ]
     },
     "metadata": {},
     "output_type": "display_data"
    },
    {
     "data": {
      "text/html": [
       "<style>.jp-OutputArea-child .jupyter-widgets.jp-OutputArea-output { overflow: auto; }</style>"
      ],
      "text/plain": [
       "<IPython.core.display.HTML object>"
      ]
     },
     "metadata": {},
     "output_type": "display_data"
    },
    {
     "data": {
      "application/vnd.jupyter.widget-view+json": {
       "model_id": "6e443123850740dbaad23445c5c4cbc6",
       "version_major": 2,
       "version_minor": 0
      },
      "text/plain": [
       "VBox(children=(HBox(), EncodingWidget(children=(VBox(children=(HTML(value='Encoding:'), Dropdown(description='…"
      ]
     },
     "metadata": {},
     "output_type": "display_data"
    },
    {
     "data": {
      "application/vnd.jupyter.widget-view+json": {
       "model_id": "17b38c315a014db7a2faae3e7e8c1983",
       "version_major": 2,
       "version_minor": 0
      },
      "text/plain": [
       "Output()"
      ]
     },
     "metadata": {},
     "output_type": "display_data"
    }
   ],
   "source": [
    "%%sql\n",
    "\n",
    "--#set dev catalog as default using SQL\n",
    "use dev"
   ]
  },
  {
   "cell_type": "code",
   "execution_count": 11,
   "metadata": {
    "execution": {
     "iopub.execute_input": "2022-10-16T20:32:51.839302Z",
     "iopub.status.busy": "2022-10-16T20:32:51.839030Z",
     "iopub.status.idle": "2022-10-16T20:32:52.093247Z",
     "shell.execute_reply": "2022-10-16T20:32:52.092657Z",
     "shell.execute_reply.started": "2022-10-16T20:32:51.839274Z"
    },
    "tags": []
   },
   "outputs": [
    {
     "data": {
      "application/vnd.jupyter.widget-view+json": {
       "model_id": "6efdc436f01a43aa8a95199f17d92f95",
       "version_major": 2,
       "version_minor": 0
      },
      "text/plain": [
       "VBox()"
      ]
     },
     "metadata": {},
     "output_type": "display_data"
    },
    {
     "data": {
      "application/vnd.jupyter.widget-view+json": {
       "model_id": "",
       "version_major": 2,
       "version_minor": 0
      },
      "text/plain": [
       "FloatProgress(value=0.0, bar_style='info', description='Progress:', layout=Layout(height='25px', width='50%'),…"
      ]
     },
     "metadata": {},
     "output_type": "display_data"
    },
    {
     "name": "stdout",
     "output_type": "stream",
     "text": [
      "DataFrame[]"
     ]
    }
   ],
   "source": [
    "#set dev catalog as default using PySpark\n",
    "spark.sql(\"use dev\")"
   ]
  },
  {
   "cell_type": "code",
   "execution_count": 5,
   "metadata": {
    "execution": {
     "iopub.execute_input": "2022-10-16T20:29:54.127506Z",
     "iopub.status.busy": "2022-10-16T20:29:54.127281Z",
     "iopub.status.idle": "2022-10-16T20:29:59.602661Z",
     "shell.execute_reply": "2022-10-16T20:29:59.602101Z",
     "shell.execute_reply.started": "2022-10-16T20:29:54.127483Z"
    },
    "tags": []
   },
   "outputs": [
    {
     "data": {
      "application/vnd.jupyter.widget-view+json": {
       "model_id": "",
       "version_major": 2,
       "version_minor": 0
      },
      "text/plain": [
       "FloatProgress(value=0.0, bar_style='info', description='Progress:', layout=Layout(height='25px', width='50%'),…"
      ]
     },
     "metadata": {},
     "output_type": "display_data"
    },
    {
     "data": {
      "text/html": [
       "<style>.jp-OutputArea-child .jupyter-widgets.jp-OutputArea-output { overflow: auto; }</style>"
      ],
      "text/plain": [
       "<IPython.core.display.HTML object>"
      ]
     },
     "metadata": {},
     "output_type": "display_data"
    },
    {
     "data": {
      "application/vnd.jupyter.widget-view+json": {
       "model_id": "f57919ab797c404a84fc58497f068537",
       "version_major": 2,
       "version_minor": 0
      },
      "text/plain": [
       "VBox(children=(HBox(children=(HTML(value='Type:'), Button(description='Table', layout=Layout(width='70px'), st…"
      ]
     },
     "metadata": {},
     "output_type": "display_data"
    },
    {
     "data": {
      "application/vnd.jupyter.widget-view+json": {
       "model_id": "57525a7f9b2a4cc38f90c77913446a68",
       "version_major": 2,
       "version_minor": 0
      },
      "text/plain": [
       "Output()"
      ]
     },
     "metadata": {},
     "output_type": "display_data"
    }
   ],
   "source": [
    "%%sql\n",
    "\n",
    "--#show current catalog and namespace using SQL (there is no namespace yet as we have not created any database)\n",
    "show current namespace"
   ]
  },
  {
   "cell_type": "code",
   "execution_count": 12,
   "metadata": {
    "execution": {
     "iopub.execute_input": "2022-10-16T20:32:55.334159Z",
     "iopub.status.busy": "2022-10-16T20:32:55.333926Z",
     "iopub.status.idle": "2022-10-16T20:32:55.596485Z",
     "shell.execute_reply": "2022-10-16T20:32:55.595892Z",
     "shell.execute_reply.started": "2022-10-16T20:32:55.334134Z"
    },
    "tags": []
   },
   "outputs": [
    {
     "data": {
      "application/vnd.jupyter.widget-view+json": {
       "model_id": "05f4ffc0e03f410fa1e0405e9bc9c0f5",
       "version_major": 2,
       "version_minor": 0
      },
      "text/plain": [
       "VBox()"
      ]
     },
     "metadata": {},
     "output_type": "display_data"
    },
    {
     "data": {
      "application/vnd.jupyter.widget-view+json": {
       "model_id": "",
       "version_major": 2,
       "version_minor": 0
      },
      "text/plain": [
       "FloatProgress(value=0.0, bar_style='info', description='Progress:', layout=Layout(height='25px', width='50%'),…"
      ]
     },
     "metadata": {},
     "output_type": "display_data"
    },
    {
     "name": "stdout",
     "output_type": "stream",
     "text": [
      "+-------+---------+\n",
      "|catalog|namespace|\n",
      "+-------+---------+\n",
      "|    dev|   db_sql|\n",
      "+-------+---------+"
     ]
    }
   ],
   "source": [
    "#show current catalog and namespace using PySpark (there is no namespace yet as we have not created any database)\n",
    "spark.sql(\"show current namespace\").show()"
   ]
  },
  {
   "cell_type": "code",
   "execution_count": 6,
   "metadata": {
    "execution": {
     "iopub.execute_input": "2022-10-16T20:30:15.913979Z",
     "iopub.status.busy": "2022-10-16T20:30:15.913770Z",
     "iopub.status.idle": "2022-10-16T20:30:16.741190Z",
     "shell.execute_reply": "2022-10-16T20:30:16.740646Z",
     "shell.execute_reply.started": "2022-10-16T20:30:15.913957Z"
    }
   },
   "outputs": [
    {
     "data": {
      "application/vnd.jupyter.widget-view+json": {
       "model_id": "",
       "version_major": 2,
       "version_minor": 0
      },
      "text/plain": [
       "FloatProgress(value=0.0, bar_style='info', description='Progress:', layout=Layout(height='25px', width='50%'),…"
      ]
     },
     "metadata": {},
     "output_type": "display_data"
    },
    {
     "data": {
      "text/html": [
       "<style>.jp-OutputArea-child .jupyter-widgets.jp-OutputArea-output { overflow: auto; }</style>"
      ],
      "text/plain": [
       "<IPython.core.display.HTML object>"
      ]
     },
     "metadata": {},
     "output_type": "display_data"
    },
    {
     "data": {
      "application/vnd.jupyter.widget-view+json": {
       "model_id": "d6c55308eee44fc68cdf726a0da1c6a9",
       "version_major": 2,
       "version_minor": 0
      },
      "text/plain": [
       "VBox(children=(HBox(), EncodingWidget(children=(VBox(children=(HTML(value='Encoding:'), Dropdown(description='…"
      ]
     },
     "metadata": {},
     "output_type": "display_data"
    },
    {
     "data": {
      "application/vnd.jupyter.widget-view+json": {
       "model_id": "dfa8b5360188422687d28774dc691609",
       "version_major": 2,
       "version_minor": 0
      },
      "text/plain": [
       "Output()"
      ]
     },
     "metadata": {},
     "output_type": "display_data"
    }
   ],
   "source": [
    "%%sql\n",
    "--#create a database called \"db_sql\" using SQL\n",
    "CREATE DATABASE IF NOT EXISTS db_sql;"
   ]
  },
  {
   "cell_type": "code",
   "execution_count": 13,
   "metadata": {
    "execution": {
     "iopub.execute_input": "2022-10-16T20:33:02.782741Z",
     "iopub.status.busy": "2022-10-16T20:33:02.782508Z",
     "iopub.status.idle": "2022-10-16T20:33:03.536186Z",
     "shell.execute_reply": "2022-10-16T20:33:03.535598Z",
     "shell.execute_reply.started": "2022-10-16T20:33:02.782716Z"
    },
    "tags": []
   },
   "outputs": [
    {
     "data": {
      "application/vnd.jupyter.widget-view+json": {
       "model_id": "a5f2cd1064ed4f36beaf7b596bd792f7",
       "version_major": 2,
       "version_minor": 0
      },
      "text/plain": [
       "VBox()"
      ]
     },
     "metadata": {},
     "output_type": "display_data"
    },
    {
     "data": {
      "application/vnd.jupyter.widget-view+json": {
       "model_id": "",
       "version_major": 2,
       "version_minor": 0
      },
      "text/plain": [
       "FloatProgress(value=0.0, bar_style='info', description='Progress:', layout=Layout(height='25px', width='50%'),…"
      ]
     },
     "metadata": {},
     "output_type": "display_data"
    },
    {
     "name": "stdout",
     "output_type": "stream",
     "text": [
      "DataFrame[]"
     ]
    }
   ],
   "source": [
    "#create a database called \"db_ps\" using PySpark\n",
    "spark.sql(\"CREATE DATABASE IF NOT EXISTS db_ps\")"
   ]
  },
  {
   "cell_type": "code",
   "execution_count": 62,
   "metadata": {
    "execution": {
     "iopub.execute_input": "2022-10-16T21:12:27.520414Z",
     "iopub.status.busy": "2022-10-16T21:12:27.519990Z",
     "iopub.status.idle": "2022-10-16T21:12:27.830283Z",
     "shell.execute_reply": "2022-10-16T21:12:27.829724Z",
     "shell.execute_reply.started": "2022-10-16T21:12:27.520375Z"
    },
    "tags": []
   },
   "outputs": [
    {
     "data": {
      "application/vnd.jupyter.widget-view+json": {
       "model_id": "",
       "version_major": 2,
       "version_minor": 0
      },
      "text/plain": [
       "FloatProgress(value=0.0, bar_style='info', description='Progress:', layout=Layout(height='25px', width='50%'),…"
      ]
     },
     "metadata": {},
     "output_type": "display_data"
    },
    {
     "data": {
      "text/html": [
       "<style>.jp-OutputArea-child .jupyter-widgets.jp-OutputArea-output { overflow: auto; }</style>"
      ],
      "text/plain": [
       "<IPython.core.display.HTML object>"
      ]
     },
     "metadata": {},
     "output_type": "display_data"
    },
    {
     "data": {
      "application/vnd.jupyter.widget-view+json": {
       "model_id": "1097e7a83e13493384d721025ce3e268",
       "version_major": 2,
       "version_minor": 0
      },
      "text/plain": [
       "VBox(children=(HBox(), EncodingWidget(children=(VBox(children=(HTML(value='Encoding:'), Dropdown(description='…"
      ]
     },
     "metadata": {},
     "output_type": "display_data"
    },
    {
     "data": {
      "application/vnd.jupyter.widget-view+json": {
       "model_id": "6c07c5fd4ab3462780c8bd797e2fdcac",
       "version_major": 2,
       "version_minor": 0
      },
      "text/plain": [
       "Output()"
      ]
     },
     "metadata": {},
     "output_type": "display_data"
    }
   ],
   "source": [
    "%%sql\n",
    "--#use newly created database as the default database using SQL\n",
    "use db_sql"
   ]
  },
  {
   "cell_type": "code",
   "execution_count": 63,
   "metadata": {
    "execution": {
     "iopub.execute_input": "2022-10-16T21:12:42.029363Z",
     "iopub.status.busy": "2022-10-16T21:12:42.029210Z",
     "iopub.status.idle": "2022-10-16T21:12:42.414199Z",
     "shell.execute_reply": "2022-10-16T21:12:42.413658Z",
     "shell.execute_reply.started": "2022-10-16T21:12:42.029342Z"
    },
    "tags": []
   },
   "outputs": [
    {
     "data": {
      "application/vnd.jupyter.widget-view+json": {
       "model_id": "",
       "version_major": 2,
       "version_minor": 0
      },
      "text/plain": [
       "FloatProgress(value=0.0, bar_style='info', description='Progress:', layout=Layout(height='25px', width='50%'),…"
      ]
     },
     "metadata": {},
     "output_type": "display_data"
    },
    {
     "data": {
      "text/html": [
       "<style>.jp-OutputArea-child .jupyter-widgets.jp-OutputArea-output { overflow: auto; }</style>"
      ],
      "text/plain": [
       "<IPython.core.display.HTML object>"
      ]
     },
     "metadata": {},
     "output_type": "display_data"
    },
    {
     "data": {
      "application/vnd.jupyter.widget-view+json": {
       "model_id": "e8c877669a6d41fca168d87c09fcb20a",
       "version_major": 2,
       "version_minor": 0
      },
      "text/plain": [
       "VBox(children=(HBox(children=(HTML(value='Type:'), Button(description='Table', layout=Layout(width='70px'), st…"
      ]
     },
     "metadata": {},
     "output_type": "display_data"
    },
    {
     "data": {
      "application/vnd.jupyter.widget-view+json": {
       "model_id": "4122aa4735104727a24524bf6620df6c",
       "version_major": 2,
       "version_minor": 0
      },
      "text/plain": [
       "Output()"
      ]
     },
     "metadata": {},
     "output_type": "display_data"
    }
   ],
   "source": [
    "%%sql\n",
    "--#show current namespace using SQL and notice now the namespace is \"db_sql\" instead of \"NaT\" as displayed earlier\n",
    "show current namespace"
   ]
  },
  {
   "cell_type": "code",
   "execution_count": 14,
   "metadata": {
    "execution": {
     "iopub.execute_input": "2022-10-16T20:33:53.196738Z",
     "iopub.status.busy": "2022-10-16T20:33:53.196506Z",
     "iopub.status.idle": "2022-10-16T20:33:53.449872Z",
     "shell.execute_reply": "2022-10-16T20:33:53.449275Z",
     "shell.execute_reply.started": "2022-10-16T20:33:53.196714Z"
    }
   },
   "outputs": [
    {
     "data": {
      "application/vnd.jupyter.widget-view+json": {
       "model_id": "5bf43fbb78ce49e484b77b8ac38112a5",
       "version_major": 2,
       "version_minor": 0
      },
      "text/plain": [
       "VBox()"
      ]
     },
     "metadata": {},
     "output_type": "display_data"
    },
    {
     "data": {
      "application/vnd.jupyter.widget-view+json": {
       "model_id": "",
       "version_major": 2,
       "version_minor": 0
      },
      "text/plain": [
       "FloatProgress(value=0.0, bar_style='info', description='Progress:', layout=Layout(height='25px', width='50%'),…"
      ]
     },
     "metadata": {},
     "output_type": "display_data"
    },
    {
     "name": "stdout",
     "output_type": "stream",
     "text": [
      "DataFrame[]"
     ]
    }
   ],
   "source": [
    "#use newly created database as the default database using PySpark\n",
    "spark.sql(\"use db_ps\")"
   ]
  },
  {
   "cell_type": "code",
   "execution_count": 15,
   "metadata": {
    "execution": {
     "iopub.execute_input": "2022-10-16T20:33:56.335649Z",
     "iopub.status.busy": "2022-10-16T20:33:56.335342Z",
     "iopub.status.idle": "2022-10-16T20:33:56.607728Z",
     "shell.execute_reply": "2022-10-16T20:33:56.606907Z",
     "shell.execute_reply.started": "2022-10-16T20:33:56.335613Z"
    },
    "tags": []
   },
   "outputs": [
    {
     "data": {
      "application/vnd.jupyter.widget-view+json": {
       "model_id": "2d6b411141bf4ebdb6e9d3532880efc6",
       "version_major": 2,
       "version_minor": 0
      },
      "text/plain": [
       "VBox()"
      ]
     },
     "metadata": {},
     "output_type": "display_data"
    },
    {
     "data": {
      "application/vnd.jupyter.widget-view+json": {
       "model_id": "",
       "version_major": 2,
       "version_minor": 0
      },
      "text/plain": [
       "FloatProgress(value=0.0, bar_style='info', description='Progress:', layout=Layout(height='25px', width='50%'),…"
      ]
     },
     "metadata": {},
     "output_type": "display_data"
    },
    {
     "name": "stdout",
     "output_type": "stream",
     "text": [
      "+-------+---------+\n",
      "|catalog|namespace|\n",
      "+-------+---------+\n",
      "|    dev|    db_ps|\n",
      "+-------+---------+"
     ]
    }
   ],
   "source": [
    "#show current namespace using PySpark and notice now the namespace is \"db_ps\" instead of \"NaT\" as displayed earlier\n",
    "spark.sql(\"show current namespace\").show()"
   ]
  },
  {
   "cell_type": "code",
   "execution_count": 9,
   "metadata": {
    "execution": {
     "iopub.execute_input": "2022-10-16T20:31:07.869592Z",
     "iopub.status.busy": "2022-10-16T20:31:07.869370Z",
     "iopub.status.idle": "2022-10-16T20:31:08.685931Z",
     "shell.execute_reply": "2022-10-16T20:31:08.685375Z",
     "shell.execute_reply.started": "2022-10-16T20:31:07.869567Z"
    },
    "tags": []
   },
   "outputs": [
    {
     "data": {
      "application/vnd.jupyter.widget-view+json": {
       "model_id": "",
       "version_major": 2,
       "version_minor": 0
      },
      "text/plain": [
       "FloatProgress(value=0.0, bar_style='info', description='Progress:', layout=Layout(height='25px', width='50%'),…"
      ]
     },
     "metadata": {},
     "output_type": "display_data"
    },
    {
     "data": {
      "text/html": [
       "<style>.jp-OutputArea-child .jupyter-widgets.jp-OutputArea-output { overflow: auto; }</style>"
      ],
      "text/plain": [
       "<IPython.core.display.HTML object>"
      ]
     },
     "metadata": {},
     "output_type": "display_data"
    },
    {
     "data": {
      "application/vnd.jupyter.widget-view+json": {
       "model_id": "d0cfdbf849914432b01ffc5218c97685",
       "version_major": 2,
       "version_minor": 0
      },
      "text/plain": [
       "VBox(children=(HBox(), EncodingWidget(children=(VBox(children=(HTML(value='Encoding:'), Dropdown(description='…"
      ]
     },
     "metadata": {},
     "output_type": "display_data"
    },
    {
     "data": {
      "application/vnd.jupyter.widget-view+json": {
       "model_id": "a809ebe25714427fb338f89831880470",
       "version_major": 2,
       "version_minor": 0
      },
      "text/plain": [
       "Output()"
      ]
     },
     "metadata": {},
     "output_type": "display_data"
    }
   ],
   "source": [
    "%%sql\n",
    "--#drop table if it exists usign SQL\n",
    "drop table if exists dev.db_sql.iceberg_table"
   ]
  },
  {
   "cell_type": "code",
   "execution_count": 45,
   "metadata": {
    "execution": {
     "iopub.execute_input": "2022-10-16T20:58:53.407206Z",
     "iopub.status.busy": "2022-10-16T20:58:53.406957Z",
     "iopub.status.idle": "2022-10-16T20:58:54.662460Z",
     "shell.execute_reply": "2022-10-16T20:58:54.661896Z",
     "shell.execute_reply.started": "2022-10-16T20:58:53.407178Z"
    },
    "tags": []
   },
   "outputs": [
    {
     "data": {
      "application/vnd.jupyter.widget-view+json": {
       "model_id": "0b7a3ec9cb4d47e6b5b7500f74e45851",
       "version_major": 2,
       "version_minor": 0
      },
      "text/plain": [
       "VBox()"
      ]
     },
     "metadata": {},
     "output_type": "display_data"
    },
    {
     "data": {
      "application/vnd.jupyter.widget-view+json": {
       "model_id": "",
       "version_major": 2,
       "version_minor": 0
      },
      "text/plain": [
       "FloatProgress(value=0.0, bar_style='info', description='Progress:', layout=Layout(height='25px', width='50%'),…"
      ]
     },
     "metadata": {},
     "output_type": "display_data"
    },
    {
     "name": "stdout",
     "output_type": "stream",
     "text": [
      "DataFrame[]"
     ]
    }
   ],
   "source": [
    "#drop table if it exists usign PySpark\n",
    "spark.sql(\"drop table if exists dev.db_ps.iceberg_table\")"
   ]
  },
  {
   "cell_type": "code",
   "execution_count": 10,
   "metadata": {
    "execution": {
     "iopub.execute_input": "2022-10-16T20:31:11.856807Z",
     "iopub.status.busy": "2022-10-16T20:31:11.856579Z",
     "iopub.status.idle": "2022-10-16T20:31:14.187238Z",
     "shell.execute_reply": "2022-10-16T20:31:14.186642Z",
     "shell.execute_reply.started": "2022-10-16T20:31:11.856782Z"
    },
    "tags": []
   },
   "outputs": [
    {
     "data": {
      "application/vnd.jupyter.widget-view+json": {
       "model_id": "",
       "version_major": 2,
       "version_minor": 0
      },
      "text/plain": [
       "FloatProgress(value=0.0, bar_style='info', description='Progress:', layout=Layout(height='25px', width='50%'),…"
      ]
     },
     "metadata": {},
     "output_type": "display_data"
    },
    {
     "data": {
      "text/html": [
       "<style>.jp-OutputArea-child .jupyter-widgets.jp-OutputArea-output { overflow: auto; }</style>"
      ],
      "text/plain": [
       "<IPython.core.display.HTML object>"
      ]
     },
     "metadata": {},
     "output_type": "display_data"
    },
    {
     "data": {
      "application/vnd.jupyter.widget-view+json": {
       "model_id": "2f1c6332b17a448696d973787d1721f2",
       "version_major": 2,
       "version_minor": 0
      },
      "text/plain": [
       "VBox(children=(HBox(), EncodingWidget(children=(VBox(children=(HTML(value='Encoding:'), Dropdown(description='…"
      ]
     },
     "metadata": {},
     "output_type": "display_data"
    },
    {
     "data": {
      "application/vnd.jupyter.widget-view+json": {
       "model_id": "e48c5ef17372406486daf2905b1cb792",
       "version_major": 2,
       "version_minor": 0
      },
      "text/plain": [
       "Output()"
      ]
     },
     "metadata": {},
     "output_type": "display_data"
    }
   ],
   "source": [
    "%%sql\n",
    "--#Create table in dev catalog --> db database using SQL\n",
    "CREATE TABLE IF NOT EXISTS dev.db_sql.iceberg_table \n",
    "    (id string, \n",
    "     name string, \n",
    "     create_date string, \n",
    "     last_update_time string\n",
    "    )\n",
    "USING iceberg"
   ]
  },
  {
   "cell_type": "code",
   "execution_count": 46,
   "metadata": {
    "execution": {
     "iopub.execute_input": "2022-10-16T21:00:16.986523Z",
     "iopub.status.busy": "2022-10-16T21:00:16.986293Z",
     "iopub.status.idle": "2022-10-16T21:00:19.247382Z",
     "shell.execute_reply": "2022-10-16T21:00:19.246664Z",
     "shell.execute_reply.started": "2022-10-16T21:00:16.986498Z"
    },
    "tags": []
   },
   "outputs": [
    {
     "data": {
      "application/vnd.jupyter.widget-view+json": {
       "model_id": "7e1a170826dd4806a1e1da74959f4a4e",
       "version_major": 2,
       "version_minor": 0
      },
      "text/plain": [
       "VBox()"
      ]
     },
     "metadata": {},
     "output_type": "display_data"
    },
    {
     "data": {
      "application/vnd.jupyter.widget-view+json": {
       "model_id": "",
       "version_major": 2,
       "version_minor": 0
      },
      "text/plain": [
       "FloatProgress(value=0.0, bar_style='info', description='Progress:', layout=Layout(height='25px', width='50%'),…"
      ]
     },
     "metadata": {},
     "output_type": "display_data"
    },
    {
     "name": "stdout",
     "output_type": "stream",
     "text": [
      "DataFrame[]"
     ]
    }
   ],
   "source": [
    "#Create table in dev catalog --> db1 database using PySpark\n",
    "spark.sql(\" CREATE TABLE IF NOT EXISTS dev.db_ps.iceberg_table (id string, name string, create_date string, last_update_time string) USING iceberg\")"
   ]
  },
  {
   "cell_type": "code",
   "execution_count": null,
   "metadata": {
    "tags": []
   },
   "outputs": [],
   "source": [
    "#Create table in dev catalog --> db1 database using PySpark NOT Required to provide path for the table, will be picked up from the warehouse config\n",
    "#spark.sql(\" CREATE TABLE IF NOT EXISTS dev.db_ps.iceberg_table (id string, name string, create_date string, last_update_time string) USING iceberg LOCATION 's3://\" + s3_bucket_name + \"/iceberg/db/iceberg_table' \")"
   ]
  },
  {
   "cell_type": "code",
   "execution_count": 22,
   "metadata": {
    "execution": {
     "iopub.execute_input": "2022-10-16T20:39:41.448879Z",
     "iopub.status.busy": "2022-10-16T20:39:41.448702Z",
     "iopub.status.idle": "2022-10-16T20:39:42.320436Z",
     "shell.execute_reply": "2022-10-16T20:39:42.319865Z",
     "shell.execute_reply.started": "2022-10-16T20:39:41.448858Z"
    },
    "tags": []
   },
   "outputs": [
    {
     "data": {
      "application/vnd.jupyter.widget-view+json": {
       "model_id": "",
       "version_major": 2,
       "version_minor": 0
      },
      "text/plain": [
       "FloatProgress(value=0.0, bar_style='info', description='Progress:', layout=Layout(height='25px', width='50%'),…"
      ]
     },
     "metadata": {},
     "output_type": "display_data"
    },
    {
     "data": {
      "text/html": [
       "<style>.jp-OutputArea-child .jupyter-widgets.jp-OutputArea-output { overflow: auto; }</style>"
      ],
      "text/plain": [
       "<IPython.core.display.HTML object>"
      ]
     },
     "metadata": {},
     "output_type": "display_data"
    },
    {
     "data": {
      "application/vnd.jupyter.widget-view+json": {
       "model_id": "35a49fb4523240e6ab834663be36bbb1",
       "version_major": 2,
       "version_minor": 0
      },
      "text/plain": [
       "VBox(children=(HBox(children=(HTML(value='Type:'), Button(description='Table', layout=Layout(width='70px'), st…"
      ]
     },
     "metadata": {},
     "output_type": "display_data"
    },
    {
     "data": {
      "application/vnd.jupyter.widget-view+json": {
       "model_id": "003189fd9dda495a9b5eb055f0581f50",
       "version_major": 2,
       "version_minor": 0
      },
      "text/plain": [
       "Output()"
      ]
     },
     "metadata": {},
     "output_type": "display_data"
    }
   ],
   "source": [
    "%%sql\n",
    "--#List all databases with in dev catalog using SQL ( as we have set dev as teh default catalog, no need to as \"in dev\", but have shown different ways to query\n",
    "--show databases\n",
    "show databases in dev"
   ]
  },
  {
   "cell_type": "code",
   "execution_count": 19,
   "metadata": {
    "execution": {
     "iopub.execute_input": "2022-10-16T20:36:52.839434Z",
     "iopub.status.busy": "2022-10-16T20:36:52.839198Z",
     "iopub.status.idle": "2022-10-16T20:36:53.091290Z",
     "shell.execute_reply": "2022-10-16T20:36:53.090618Z",
     "shell.execute_reply.started": "2022-10-16T20:36:52.839410Z"
    },
    "tags": []
   },
   "outputs": [
    {
     "data": {
      "application/vnd.jupyter.widget-view+json": {
       "model_id": "bd6d28cd281c4c9381baf7975075cdd7",
       "version_major": 2,
       "version_minor": 0
      },
      "text/plain": [
       "VBox()"
      ]
     },
     "metadata": {},
     "output_type": "display_data"
    },
    {
     "data": {
      "application/vnd.jupyter.widget-view+json": {
       "model_id": "",
       "version_major": 2,
       "version_minor": 0
      },
      "text/plain": [
       "FloatProgress(value=0.0, bar_style='info', description='Progress:', layout=Layout(height='25px', width='50%'),…"
      ]
     },
     "metadata": {},
     "output_type": "display_data"
    },
    {
     "name": "stdout",
     "output_type": "stream",
     "text": [
      "+---------+\n",
      "|namespace|\n",
      "+---------+\n",
      "|       db|\n",
      "|    db_ps|\n",
      "|   db_sql|\n",
      "|  default|\n",
      "+---------+"
     ]
    }
   ],
   "source": [
    "# List all databases with in dev catalog using PySpark\n",
    "spark.sql(\" SHOW DATABASES in dev \").show()"
   ]
  },
  {
   "cell_type": "code",
   "execution_count": 26,
   "metadata": {
    "execution": {
     "iopub.execute_input": "2022-10-16T20:42:37.669335Z",
     "iopub.status.busy": "2022-10-16T20:42:37.669011Z",
     "iopub.status.idle": "2022-10-16T20:42:38.560199Z",
     "shell.execute_reply": "2022-10-16T20:42:38.559645Z",
     "shell.execute_reply.started": "2022-10-16T20:42:37.669311Z"
    },
    "tags": []
   },
   "outputs": [
    {
     "data": {
      "application/vnd.jupyter.widget-view+json": {
       "model_id": "",
       "version_major": 2,
       "version_minor": 0
      },
      "text/plain": [
       "FloatProgress(value=0.0, bar_style='info', description='Progress:', layout=Layout(height='25px', width='50%'),…"
      ]
     },
     "metadata": {},
     "output_type": "display_data"
    },
    {
     "data": {
      "text/html": [
       "<style>.jp-OutputArea-child .jupyter-widgets.jp-OutputArea-output { overflow: auto; }</style>"
      ],
      "text/plain": [
       "<IPython.core.display.HTML object>"
      ]
     },
     "metadata": {},
     "output_type": "display_data"
    },
    {
     "data": {
      "application/vnd.jupyter.widget-view+json": {
       "model_id": "41c6794b79ff47c2b17f68b90d200e36",
       "version_major": 2,
       "version_minor": 0
      },
      "text/plain": [
       "VBox(children=(HBox(children=(HTML(value='Type:'), Button(description='Table', layout=Layout(width='70px'), st…"
      ]
     },
     "metadata": {},
     "output_type": "display_data"
    },
    {
     "data": {
      "application/vnd.jupyter.widget-view+json": {
       "model_id": "2ca6038a9d904e3b8d4a94a2554575f9",
       "version_major": 2,
       "version_minor": 0
      },
      "text/plain": [
       "Output()"
      ]
     },
     "metadata": {},
     "output_type": "display_data"
    }
   ],
   "source": [
    "%%sql\n",
    "--#List all tables with in dev catalog and db_sql database using SQL ( as we have set dev as teh default catalog, no need to as \"in dev.db_sql\", but have shown different ways to query\n",
    "--show tables\n",
    "show tables in dev.db_sql"
   ]
  },
  {
   "cell_type": "code",
   "execution_count": 27,
   "metadata": {
    "execution": {
     "iopub.execute_input": "2022-10-16T20:43:35.289896Z",
     "iopub.status.busy": "2022-10-16T20:43:35.289673Z",
     "iopub.status.idle": "2022-10-16T20:43:36.046272Z",
     "shell.execute_reply": "2022-10-16T20:43:36.045480Z",
     "shell.execute_reply.started": "2022-10-16T20:43:35.289872Z"
    },
    "tags": []
   },
   "outputs": [
    {
     "data": {
      "application/vnd.jupyter.widget-view+json": {
       "model_id": "f03f2eff3877408b9d4b00172e6deeea",
       "version_major": 2,
       "version_minor": 0
      },
      "text/plain": [
       "VBox()"
      ]
     },
     "metadata": {},
     "output_type": "display_data"
    },
    {
     "data": {
      "application/vnd.jupyter.widget-view+json": {
       "model_id": "",
       "version_major": 2,
       "version_minor": 0
      },
      "text/plain": [
       "FloatProgress(value=0.0, bar_style='info', description='Progress:', layout=Layout(height='25px', width='50%'),…"
      ]
     },
     "metadata": {},
     "output_type": "display_data"
    },
    {
     "name": "stdout",
     "output_type": "stream",
     "text": [
      "+---------+-------------+-----------+\n",
      "|namespace|    tableName|isTemporary|\n",
      "+---------+-------------+-----------+\n",
      "|    db_ps|iceberg_table|      false|\n",
      "+---------+-------------+-----------+"
     ]
    }
   ],
   "source": [
    "# List all tables with in dev catalog and db_ps database using PySpark\n",
    "spark.sql(\" SHOW TABLES IN dev.db_ps \").show()"
   ]
  },
  {
   "cell_type": "markdown",
   "metadata": {},
   "source": [
    "# DML Operations\n",
    "> ## Using PySpark\n",
    "> ## Create a DataFrame"
   ]
  },
  {
   "cell_type": "code",
   "execution_count": 47,
   "metadata": {
    "execution": {
     "iopub.execute_input": "2022-10-16T21:00:44.105102Z",
     "iopub.status.busy": "2022-10-16T21:00:44.104876Z",
     "iopub.status.idle": "2022-10-16T21:00:44.354013Z",
     "shell.execute_reply": "2022-10-16T21:00:44.353438Z",
     "shell.execute_reply.started": "2022-10-16T21:00:44.105077Z"
    },
    "tags": []
   },
   "outputs": [
    {
     "data": {
      "application/vnd.jupyter.widget-view+json": {
       "model_id": "63b18ad1486e4f3cb93918e515b081bc",
       "version_major": 2,
       "version_minor": 0
      },
      "text/plain": [
       "VBox()"
      ]
     },
     "metadata": {},
     "output_type": "display_data"
    },
    {
     "data": {
      "application/vnd.jupyter.widget-view+json": {
       "model_id": "",
       "version_major": 2,
       "version_minor": 0
      },
      "text/plain": [
       "FloatProgress(value=0.0, bar_style='info', description='Progress:', layout=Layout(height='25px', width='50%'),…"
      ]
     },
     "metadata": {},
     "output_type": "display_data"
    }
   ],
   "source": [
    "data = [\n",
    "        (1, \"Chris\", \"2020-01-01\", datetime.strptime('2020-01-01 00:00:00', '%Y-%m-%d %H:%M:%S')),\n",
    "        (2, \"Will\", \"2020-01-01\", datetime.strptime('2020-01-01 00:00:00', '%Y-%m-%d %H:%M:%S')),\n",
    "        (3, \"Emma\", \"2020-01-01\", datetime.strptime('2020-01-01 00:00:00', '%Y-%m-%d %H:%M:%S')),\n",
    "        (4, \"John\", \"2020-01-01\", datetime.strptime('2020-01-01 00:00:00', '%Y-%m-%d %H:%M:%S')),\n",
    "        (5, \"Eric\", \"2020-01-01\", datetime.strptime('2020-01-01 00:00:00', '%Y-%m-%d %H:%M:%S')),\n",
    "        (6, \"Adam\", \"2020-01-01\", datetime.strptime('2020-01-01 00:00:00', '%Y-%m-%d %H:%M:%S'))\n",
    "]\n",
    "\n",
    "schema = StructType([\n",
    "        StructField(\"id\", IntegerType(), False),\n",
    "        StructField(\"name\", StringType(), False), \n",
    "        StructField(\"create_date\", StringType(), False),             \n",
    "        StructField(\"last_update_time\", TimestampType(), False)    \n",
    "])\n",
    "\n",
    "inputDF = spark.createDataFrame(data=data,schema=schema)"
   ]
  },
  {
   "cell_type": "markdown",
   "metadata": {},
   "source": [
    "## Write Data to Iceberg Table"
   ]
  },
  {
   "cell_type": "code",
   "execution_count": 48,
   "metadata": {
    "execution": {
     "iopub.execute_input": "2022-10-16T21:00:47.006056Z",
     "iopub.status.busy": "2022-10-16T21:00:47.005832Z",
     "iopub.status.idle": "2022-10-16T21:00:58.305534Z",
     "shell.execute_reply": "2022-10-16T21:00:58.304907Z",
     "shell.execute_reply.started": "2022-10-16T21:00:47.006032Z"
    },
    "tags": []
   },
   "outputs": [
    {
     "data": {
      "application/vnd.jupyter.widget-view+json": {
       "model_id": "69e9a3dd4577491eae77487910ae10de",
       "version_major": 2,
       "version_minor": 0
      },
      "text/plain": [
       "VBox()"
      ]
     },
     "metadata": {},
     "output_type": "display_data"
    },
    {
     "data": {
      "application/vnd.jupyter.widget-view+json": {
       "model_id": "",
       "version_major": 2,
       "version_minor": 0
      },
      "text/plain": [
       "FloatProgress(value=0.0, bar_style='info', description='Progress:', layout=Layout(height='25px', width='50%'),…"
      ]
     },
     "metadata": {},
     "output_type": "display_data"
    }
   ],
   "source": [
    "inputDF.writeTo(\"dev.db_ps.iceberg_table\").append()"
   ]
  },
  {
   "cell_type": "markdown",
   "metadata": {},
   "source": [
    "## Read Data from Iceberg Table"
   ]
  },
  {
   "cell_type": "code",
   "execution_count": 49,
   "metadata": {
    "execution": {
     "iopub.execute_input": "2022-10-16T21:00:58.306761Z",
     "iopub.status.busy": "2022-10-16T21:00:58.306596Z",
     "iopub.status.idle": "2022-10-16T21:00:59.574133Z",
     "shell.execute_reply": "2022-10-16T21:00:59.573561Z",
     "shell.execute_reply.started": "2022-10-16T21:00:58.306740Z"
    },
    "tags": []
   },
   "outputs": [
    {
     "data": {
      "application/vnd.jupyter.widget-view+json": {
       "model_id": "122cceb5cc3c438a86af722428be7459",
       "version_major": 2,
       "version_minor": 0
      },
      "text/plain": [
       "VBox()"
      ]
     },
     "metadata": {},
     "output_type": "display_data"
    },
    {
     "data": {
      "application/vnd.jupyter.widget-view+json": {
       "model_id": "",
       "version_major": 2,
       "version_minor": 0
      },
      "text/plain": [
       "FloatProgress(value=0.0, bar_style='info', description='Progress:', layout=Layout(height='25px', width='50%'),…"
      ]
     },
     "metadata": {},
     "output_type": "display_data"
    },
    {
     "name": "stdout",
     "output_type": "stream",
     "text": [
      "+---+-----+-----------+-------------------+\n",
      "| id| name|create_date|   last_update_time|\n",
      "+---+-----+-----------+-------------------+\n",
      "|  1|Chris| 2020-01-01|2020-01-01 00:00:00|\n",
      "|  2| Will| 2020-01-01|2020-01-01 00:00:00|\n",
      "|  3| Emma| 2020-01-01|2020-01-01 00:00:00|\n",
      "|  4| John| 2020-01-01|2020-01-01 00:00:00|\n",
      "|  5| Eric| 2020-01-01|2020-01-01 00:00:00|\n",
      "|  6| Adam| 2020-01-01|2020-01-01 00:00:00|\n",
      "+---+-----+-----------+-------------------+"
     ]
    }
   ],
   "source": [
    "spark.sql(\" SELECT * FROM dev.db_ps.iceberg_table \").show() "
   ]
  },
  {
   "cell_type": "markdown",
   "metadata": {},
   "source": [
    "## Update, Delete and Insert Data to Iceberg Table"
   ]
  },
  {
   "cell_type": "code",
   "execution_count": 50,
   "metadata": {
    "execution": {
     "iopub.execute_input": "2022-10-16T21:01:13.088997Z",
     "iopub.status.busy": "2022-10-16T21:01:13.088774Z",
     "iopub.status.idle": "2022-10-16T21:01:13.348398Z",
     "shell.execute_reply": "2022-10-16T21:01:13.347827Z",
     "shell.execute_reply.started": "2022-10-16T21:01:13.088973Z"
    },
    "tags": []
   },
   "outputs": [
    {
     "data": {
      "application/vnd.jupyter.widget-view+json": {
       "model_id": "1f8f05f8e8ac4a84a64c43b8c6822eab",
       "version_major": 2,
       "version_minor": 0
      },
      "text/plain": [
       "VBox()"
      ]
     },
     "metadata": {},
     "output_type": "display_data"
    },
    {
     "data": {
      "application/vnd.jupyter.widget-view+json": {
       "model_id": "",
       "version_major": 2,
       "version_minor": 0
      },
      "text/plain": [
       "FloatProgress(value=0.0, bar_style='info', description='Progress:', layout=Layout(height='25px', width='50%'),…"
      ]
     },
     "metadata": {},
     "output_type": "display_data"
    }
   ],
   "source": [
    "data = [\n",
    "        (1, \"Christopher\", \"2020-01-01\", datetime.strptime('2020-01-02 00:00:00', '%Y-%m-%d %H:%M:%S'), \"update\"),\n",
    "        (3, \"Emmeline\", \"2020-01-01\", datetime.strptime('2020-01-02 00:00:00', '%Y-%m-%d %H:%M:%S'), \"update\"),\n",
    "        (5, \"Eric\", \"2020-01-01\", datetime.strptime('2020-01-02 00:00:00', '%Y-%m-%d %H:%M:%S'), \"delete\"),\n",
    "        (7, \"Prasad\", \"2020-01-02\", datetime.strptime('2020-01-02 00:00:00', '%Y-%m-%d %H:%M:%S'), \"append\")\n",
    "]\n",
    "\n",
    "schema = StructType([\n",
    "        StructField(\"id\", IntegerType(), False),\n",
    "        StructField(\"name\", StringType(), False), \n",
    "        StructField(\"create_date\", StringType(), False),             \n",
    "        StructField(\"last_update_time\", TimestampType(), False),\n",
    "        StructField(\"change_type\", StringType(), False)\n",
    "])\n",
    "\n",
    "mergeDF = spark.createDataFrame(data=data,schema=schema)\n",
    "\n",
    "mergeDF.createOrReplaceTempView(\"mergeTable\")"
   ]
  },
  {
   "cell_type": "code",
   "execution_count": null,
   "metadata": {
    "tags": []
   },
   "outputs": [],
   "source": [
    "# spark.sql(\" DROP TABLE mergeTable \")"
   ]
  },
  {
   "cell_type": "code",
   "execution_count": 51,
   "metadata": {
    "execution": {
     "iopub.execute_input": "2022-10-16T21:01:40.293184Z",
     "iopub.status.busy": "2022-10-16T21:01:40.292927Z",
     "iopub.status.idle": "2022-10-16T21:01:45.569461Z",
     "shell.execute_reply": "2022-10-16T21:01:45.568854Z",
     "shell.execute_reply.started": "2022-10-16T21:01:40.293155Z"
    },
    "tags": []
   },
   "outputs": [
    {
     "data": {
      "application/vnd.jupyter.widget-view+json": {
       "model_id": "406d4e64035d4c7d842dd1dec600f920",
       "version_major": 2,
       "version_minor": 0
      },
      "text/plain": [
       "VBox()"
      ]
     },
     "metadata": {},
     "output_type": "display_data"
    },
    {
     "data": {
      "application/vnd.jupyter.widget-view+json": {
       "model_id": "",
       "version_major": 2,
       "version_minor": 0
      },
      "text/plain": [
       "FloatProgress(value=0.0, bar_style='info', description='Progress:', layout=Layout(height='25px', width='50%'),…"
      ]
     },
     "metadata": {},
     "output_type": "display_data"
    },
    {
     "name": "stdout",
     "output_type": "stream",
     "text": [
      "DataFrame[]"
     ]
    }
   ],
   "source": [
    "spark.sql(\"\"\" \n",
    "    MERGE INTO \n",
    "        dev.db_ps.iceberg_table t \n",
    "    USING \n",
    "        (SELECT * FROM mergeTable) s \n",
    "    ON \n",
    "        t.id = s.id\n",
    "    WHEN MATCHED AND s.change_type = 'update' THEN UPDATE SET t.name = s.name, t.last_update_time = s.last_update_time \n",
    "    WHEN MATCHED AND s.change_type = 'delete' THEN DELETE\n",
    "    WHEN NOT MATCHED THEN INSERT *\n",
    "    \"\"\")"
   ]
  },
  {
   "cell_type": "code",
   "execution_count": 52,
   "metadata": {
    "execution": {
     "iopub.execute_input": "2022-10-16T21:01:56.996153Z",
     "iopub.status.busy": "2022-10-16T21:01:56.995925Z",
     "iopub.status.idle": "2022-10-16T21:01:57.759323Z",
     "shell.execute_reply": "2022-10-16T21:01:57.758707Z",
     "shell.execute_reply.started": "2022-10-16T21:01:56.996129Z"
    },
    "tags": []
   },
   "outputs": [
    {
     "data": {
      "application/vnd.jupyter.widget-view+json": {
       "model_id": "eb99386b51824895bd9de890346e032a",
       "version_major": 2,
       "version_minor": 0
      },
      "text/plain": [
       "VBox()"
      ]
     },
     "metadata": {},
     "output_type": "display_data"
    },
    {
     "data": {
      "application/vnd.jupyter.widget-view+json": {
       "model_id": "",
       "version_major": 2,
       "version_minor": 0
      },
      "text/plain": [
       "FloatProgress(value=0.0, bar_style='info', description='Progress:', layout=Layout(height='25px', width='50%'),…"
      ]
     },
     "metadata": {},
     "output_type": "display_data"
    },
    {
     "name": "stdout",
     "output_type": "stream",
     "text": [
      "+---+-----------+-----------+-------------------+\n",
      "| id|       name|create_date|   last_update_time|\n",
      "+---+-----------+-----------+-------------------+\n",
      "|  1|Christopher| 2020-01-01|2020-01-02 00:00:00|\n",
      "|  2|       Will| 2020-01-01|2020-01-01 00:00:00|\n",
      "|  3|   Emmeline| 2020-01-01|2020-01-02 00:00:00|\n",
      "|  4|       John| 2020-01-01|2020-01-01 00:00:00|\n",
      "|  6|       Adam| 2020-01-01|2020-01-01 00:00:00|\n",
      "|  7|     Prasad| 2020-01-02|2020-01-02 00:00:00|\n",
      "+---+-----------+-----------+-------------------+"
     ]
    }
   ],
   "source": [
    "spark.sql(\" SELECT * FROM dev.db_ps.iceberg_table ORDER BY id \").show()"
   ]
  },
  {
   "cell_type": "markdown",
   "metadata": {},
   "source": [
    "## Snapshots"
   ]
  },
  {
   "cell_type": "code",
   "execution_count": 53,
   "metadata": {
    "execution": {
     "iopub.execute_input": "2022-10-16T21:02:06.848806Z",
     "iopub.status.busy": "2022-10-16T21:02:06.848571Z",
     "iopub.status.idle": "2022-10-16T21:02:07.129037Z",
     "shell.execute_reply": "2022-10-16T21:02:07.128484Z",
     "shell.execute_reply.started": "2022-10-16T21:02:06.848780Z"
    },
    "tags": []
   },
   "outputs": [
    {
     "data": {
      "application/vnd.jupyter.widget-view+json": {
       "model_id": "7028d5178a47400abac35aac4cfa6d6f",
       "version_major": 2,
       "version_minor": 0
      },
      "text/plain": [
       "VBox()"
      ]
     },
     "metadata": {},
     "output_type": "display_data"
    },
    {
     "data": {
      "application/vnd.jupyter.widget-view+json": {
       "model_id": "",
       "version_major": 2,
       "version_minor": 0
      },
      "text/plain": [
       "FloatProgress(value=0.0, bar_style='info', description='Progress:', layout=Layout(height='25px', width='50%'),…"
      ]
     },
     "metadata": {},
     "output_type": "display_data"
    },
    {
     "name": "stdout",
     "output_type": "stream",
     "text": [
      "+--------------------+-------------------+-------------------+---------+--------------------+--------------------+\n",
      "|        committed_at|        snapshot_id|          parent_id|operation|       manifest_list|             summary|\n",
      "+--------------------+-------------------+-------------------+---------+--------------------+--------------------+\n",
      "|2022-10-16 21:00:...|8090240036993000156|               null|   append|s3://emr-studio-d...|{spark.app.id -> ...|\n",
      "|2022-10-16 21:01:...|6617853690041842647|8090240036993000156|overwrite|s3://emr-studio-d...|{spark.app.id -> ...|\n",
      "+--------------------+-------------------+-------------------+---------+--------------------+--------------------+"
     ]
    }
   ],
   "source": [
    "spark.sql(\" SELECT * FROM dev.db_ps.iceberg_table.snapshots \").show()"
   ]
  },
  {
   "cell_type": "code",
   "execution_count": 54,
   "metadata": {
    "execution": {
     "iopub.execute_input": "2022-10-16T21:02:25.487341Z",
     "iopub.status.busy": "2022-10-16T21:02:25.487104Z",
     "iopub.status.idle": "2022-10-16T21:02:27.750278Z",
     "shell.execute_reply": "2022-10-16T21:02:27.749701Z",
     "shell.execute_reply.started": "2022-10-16T21:02:25.487316Z"
    },
    "tags": []
   },
   "outputs": [
    {
     "data": {
      "application/vnd.jupyter.widget-view+json": {
       "model_id": "fcf0c647aea5488a9993b635b18289f3",
       "version_major": 2,
       "version_minor": 0
      },
      "text/plain": [
       "VBox()"
      ]
     },
     "metadata": {},
     "output_type": "display_data"
    },
    {
     "data": {
      "application/vnd.jupyter.widget-view+json": {
       "model_id": "",
       "version_major": 2,
       "version_minor": 0
      },
      "text/plain": [
       "FloatProgress(value=0.0, bar_style='info', description='Progress:', layout=Layout(height='25px', width='50%'),…"
      ]
     },
     "metadata": {},
     "output_type": "display_data"
    }
   ],
   "source": [
    "# Add a new record\n",
    "data = [\n",
    "        (8, \"Bill\", \"2020-01-02\", datetime.strptime('2020-01-03 00:00:00', '%Y-%m-%d %H:%M:%S'))\n",
    "]\n",
    "\n",
    "schema = StructType([\n",
    "        StructField(\"id\", IntegerType(), False),\n",
    "        StructField(\"name\", StringType(), False), \n",
    "        StructField(\"create_date\", StringType(), False),             \n",
    "        StructField(\"last_update_time\", TimestampType(), False)    \n",
    "])\n",
    "\n",
    "appendDF = spark.createDataFrame(data=data,schema=schema)\n",
    "\n",
    "appendDF.writeTo(\"dev.db_ps.iceberg_table\").append()"
   ]
  },
  {
   "cell_type": "markdown",
   "metadata": {},
   "source": [
    "## Time Travel"
   ]
  },
  {
   "cell_type": "code",
   "execution_count": 56,
   "metadata": {
    "execution": {
     "iopub.execute_input": "2022-10-16T21:02:42.257868Z",
     "iopub.status.busy": "2022-10-16T21:02:42.257639Z",
     "iopub.status.idle": "2022-10-16T21:02:43.025748Z",
     "shell.execute_reply": "2022-10-16T21:02:43.025153Z",
     "shell.execute_reply.started": "2022-10-16T21:02:42.257842Z"
    },
    "tags": []
   },
   "outputs": [
    {
     "data": {
      "application/vnd.jupyter.widget-view+json": {
       "model_id": "e6b057867571480f87c47f1f73553bdd",
       "version_major": 2,
       "version_minor": 0
      },
      "text/plain": [
       "VBox()"
      ]
     },
     "metadata": {},
     "output_type": "display_data"
    },
    {
     "data": {
      "application/vnd.jupyter.widget-view+json": {
       "model_id": "",
       "version_major": 2,
       "version_minor": 0
      },
      "text/plain": [
       "FloatProgress(value=0.0, bar_style='info', description='Progress:', layout=Layout(height='25px', width='50%'),…"
      ]
     },
     "metadata": {},
     "output_type": "display_data"
    },
    {
     "name": "stdout",
     "output_type": "stream",
     "text": [
      "+---+-----------+-----------+-------------------+\n",
      "| id|       name|create_date|   last_update_time|\n",
      "+---+-----------+-----------+-------------------+\n",
      "|  1|Christopher| 2020-01-01|2020-01-02 00:00:00|\n",
      "|  2|       Will| 2020-01-01|2020-01-01 00:00:00|\n",
      "|  3|   Emmeline| 2020-01-01|2020-01-02 00:00:00|\n",
      "|  4|       John| 2020-01-01|2020-01-01 00:00:00|\n",
      "|  6|       Adam| 2020-01-01|2020-01-01 00:00:00|\n",
      "|  7|     Prasad| 2020-01-02|2020-01-02 00:00:00|\n",
      "|  8|       Bill| 2020-01-02|2020-01-03 00:00:00|\n",
      "+---+-----------+-----------+-------------------+"
     ]
    }
   ],
   "source": [
    "# Query current table as a point of comparison\n",
    "spark.sql(\" SELECT * FROM dev.db_ps.iceberg_table ORDER BY ID \").show()"
   ]
  },
  {
   "cell_type": "code",
   "execution_count": 57,
   "metadata": {
    "execution": {
     "iopub.execute_input": "2022-10-16T21:03:05.647136Z",
     "iopub.status.busy": "2022-10-16T21:03:05.646873Z",
     "iopub.status.idle": "2022-10-16T21:03:06.400235Z",
     "shell.execute_reply": "2022-10-16T21:03:06.399624Z",
     "shell.execute_reply.started": "2022-10-16T21:03:05.647109Z"
    },
    "tags": []
   },
   "outputs": [
    {
     "data": {
      "application/vnd.jupyter.widget-view+json": {
       "model_id": "3fac4066809f4619b9de0911736a15bc",
       "version_major": 2,
       "version_minor": 0
      },
      "text/plain": [
       "VBox()"
      ]
     },
     "metadata": {},
     "output_type": "display_data"
    },
    {
     "data": {
      "application/vnd.jupyter.widget-view+json": {
       "model_id": "",
       "version_major": 2,
       "version_minor": 0
      },
      "text/plain": [
       "FloatProgress(value=0.0, bar_style='info', description='Progress:', layout=Layout(height='25px', width='50%'),…"
      ]
     },
     "metadata": {},
     "output_type": "display_data"
    },
    {
     "name": "stdout",
     "output_type": "stream",
     "text": [
      "+---+-----+-----------+-------------------+\n",
      "| id| name|create_date|   last_update_time|\n",
      "+---+-----+-----------+-------------------+\n",
      "|  1|Chris| 2020-01-01|2020-01-01 00:00:00|\n",
      "|  2| Will| 2020-01-01|2020-01-01 00:00:00|\n",
      "|  3| Emma| 2020-01-01|2020-01-01 00:00:00|\n",
      "|  4| John| 2020-01-01|2020-01-01 00:00:00|\n",
      "|  5| Eric| 2020-01-01|2020-01-01 00:00:00|\n",
      "|  6| Adam| 2020-01-01|2020-01-01 00:00:00|\n",
      "+---+-----+-----------+-------------------+"
     ]
    }
   ],
   "source": [
    "spark.sql(\" SELECT * FROM dev.db_ps.iceberg_table TIMESTAMP AS OF '2022-10-16 21:01:00' \").show()"
   ]
  },
  {
   "cell_type": "markdown",
   "metadata": {
    "execution": {
     "iopub.execute_input": "2022-10-16T21:07:04.163476Z",
     "iopub.status.busy": "2022-10-16T21:07:04.163234Z",
     "iopub.status.idle": "2022-10-16T21:07:04.211391Z",
     "shell.execute_reply": "2022-10-16T21:07:04.210795Z",
     "shell.execute_reply.started": "2022-10-16T21:07:04.163451Z"
    },
    "tags": []
   },
   "source": [
    "## DML Operations\n",
    "> ## Using SQL"
   ]
  },
  {
   "cell_type": "markdown",
   "metadata": {},
   "source": [
    "> ## Inserts"
   ]
  },
  {
   "cell_type": "code",
   "execution_count": 65,
   "metadata": {
    "execution": {
     "iopub.execute_input": "2022-10-16T21:14:31.988634Z",
     "iopub.status.busy": "2022-10-16T21:14:31.988403Z",
     "iopub.status.idle": "2022-10-16T21:14:43.342791Z",
     "shell.execute_reply": "2022-10-16T21:14:43.342178Z",
     "shell.execute_reply.started": "2022-10-16T21:14:31.988609Z"
    },
    "tags": []
   },
   "outputs": [
    {
     "data": {
      "application/vnd.jupyter.widget-view+json": {
       "model_id": "",
       "version_major": 2,
       "version_minor": 0
      },
      "text/plain": [
       "FloatProgress(value=0.0, bar_style='info', description='Progress:', layout=Layout(height='25px', width='50%'),…"
      ]
     },
     "metadata": {},
     "output_type": "display_data"
    },
    {
     "data": {
      "text/html": [
       "<style>.jp-OutputArea-child .jupyter-widgets.jp-OutputArea-output { overflow: auto; }</style>"
      ],
      "text/plain": [
       "<IPython.core.display.HTML object>"
      ]
     },
     "metadata": {},
     "output_type": "display_data"
    },
    {
     "data": {
      "application/vnd.jupyter.widget-view+json": {
       "model_id": "032a018a3d7a4d58be3c836414aaab2c",
       "version_major": 2,
       "version_minor": 0
      },
      "text/plain": [
       "VBox(children=(HBox(), EncodingWidget(children=(VBox(children=(HTML(value='Encoding:'), Dropdown(description='…"
      ]
     },
     "metadata": {},
     "output_type": "display_data"
    },
    {
     "data": {
      "application/vnd.jupyter.widget-view+json": {
       "model_id": "2fe576fee65647c997c408d83dcbec9f",
       "version_major": 2,
       "version_minor": 0
      },
      "text/plain": [
       "Output()"
      ]
     },
     "metadata": {},
     "output_type": "display_data"
    }
   ],
   "source": [
    "%%sql\n",
    "INSERT INTO dev.db_sql.iceberg_table VALUES\n",
    "        (1, \"Chris\", \"2020-01-01\", current_timestamp()),\n",
    "        (2, \"Will\", \"2020-01-01\", current_timestamp()),\n",
    "        (3, \"Emma\", \"2020-01-01\", current_timestamp()),\n",
    "        (4, \"John\", \"2020-01-01\", current_timestamp()),\n",
    "        (5, \"Eric\", \"2020-01-01\", current_timestamp()),\n",
    "        (6, \"Adam\", \"2020-01-01\", current_timestamp())\n",
    "        "
   ]
  },
  {
   "cell_type": "code",
   "execution_count": 66,
   "metadata": {
    "execution": {
     "iopub.execute_input": "2022-10-16T21:16:28.352524Z",
     "iopub.status.busy": "2022-10-16T21:16:28.352293Z",
     "iopub.status.idle": "2022-10-16T21:16:39.774318Z",
     "shell.execute_reply": "2022-10-16T21:16:39.773781Z",
     "shell.execute_reply.started": "2022-10-16T21:16:28.352499Z"
    }
   },
   "outputs": [
    {
     "data": {
      "application/vnd.jupyter.widget-view+json": {
       "model_id": "",
       "version_major": 2,
       "version_minor": 0
      },
      "text/plain": [
       "FloatProgress(value=0.0, bar_style='info', description='Progress:', layout=Layout(height='25px', width='50%'),…"
      ]
     },
     "metadata": {},
     "output_type": "display_data"
    },
    {
     "data": {
      "text/html": [
       "<style>.jp-OutputArea-child .jupyter-widgets.jp-OutputArea-output { overflow: auto; }</style>"
      ],
      "text/plain": [
       "<IPython.core.display.HTML object>"
      ]
     },
     "metadata": {},
     "output_type": "display_data"
    },
    {
     "data": {
      "application/vnd.jupyter.widget-view+json": {
       "model_id": "99a1301a93ff4a4a88a3994f2800af17",
       "version_major": 2,
       "version_minor": 0
      },
      "text/plain": [
       "VBox(children=(HBox(children=(HTML(value='Type:'), Button(description='Table', layout=Layout(width='70px'), st…"
      ]
     },
     "metadata": {},
     "output_type": "display_data"
    },
    {
     "data": {
      "application/vnd.jupyter.widget-view+json": {
       "model_id": "1c87ba43ae5d4a00badd01d5639c3b2a",
       "version_major": 2,
       "version_minor": 0
      },
      "text/plain": [
       "Output()"
      ]
     },
     "metadata": {},
     "output_type": "display_data"
    }
   ],
   "source": [
    "%%sql\n",
    "--#Query table iceberg_table in db_sql database and see if the above insert statement actually inserted records or not\n",
    "SELECT * FROM dev.db_sql.iceberg_table;"
   ]
  },
  {
   "cell_type": "code",
   "execution_count": 67,
   "metadata": {
    "execution": {
     "iopub.execute_input": "2022-10-16T21:18:09.736082Z",
     "iopub.status.busy": "2022-10-16T21:18:09.735861Z",
     "iopub.status.idle": "2022-10-16T21:18:19.161006Z",
     "shell.execute_reply": "2022-10-16T21:18:19.160448Z",
     "shell.execute_reply.started": "2022-10-16T21:18:09.736058Z"
    }
   },
   "outputs": [
    {
     "data": {
      "application/vnd.jupyter.widget-view+json": {
       "model_id": "",
       "version_major": 2,
       "version_minor": 0
      },
      "text/plain": [
       "FloatProgress(value=0.0, bar_style='info', description='Progress:', layout=Layout(height='25px', width='50%'),…"
      ]
     },
     "metadata": {},
     "output_type": "display_data"
    },
    {
     "data": {
      "text/html": [
       "<style>.jp-OutputArea-child .jupyter-widgets.jp-OutputArea-output { overflow: auto; }</style>"
      ],
      "text/plain": [
       "<IPython.core.display.HTML object>"
      ]
     },
     "metadata": {},
     "output_type": "display_data"
    },
    {
     "data": {
      "application/vnd.jupyter.widget-view+json": {
       "model_id": "a227eaeba08340119e2784149df8dc3d",
       "version_major": 2,
       "version_minor": 0
      },
      "text/plain": [
       "VBox(children=(HBox(children=(HTML(value='Type:'), Button(description='Table', layout=Layout(width='70px'), st…"
      ]
     },
     "metadata": {},
     "output_type": "display_data"
    },
    {
     "data": {
      "application/vnd.jupyter.widget-view+json": {
       "model_id": "b67d8332700f42f6a9354b20a772b019",
       "version_major": 2,
       "version_minor": 0
      },
      "text/plain": [
       "Output()"
      ]
     },
     "metadata": {},
     "output_type": "display_data"
    }
   ],
   "source": [
    "%%sql\n",
    "--#Above DML statement has created snapshots, lets check the snapshot and see operation is append as it was a fresh insert\n",
    "SELECT * FROM dev.db_sql.iceberg_table.snapshots;"
   ]
  },
  {
   "cell_type": "markdown",
   "metadata": {},
   "source": [
    "> ## Updates"
   ]
  },
  {
   "cell_type": "code",
   "execution_count": 70,
   "metadata": {
    "execution": {
     "iopub.execute_input": "2022-10-16T21:24:16.067986Z",
     "iopub.status.busy": "2022-10-16T21:24:16.067793Z",
     "iopub.status.idle": "2022-10-16T21:24:37.451930Z",
     "shell.execute_reply": "2022-10-16T21:24:37.451374Z",
     "shell.execute_reply.started": "2022-10-16T21:24:16.067963Z"
    },
    "tags": []
   },
   "outputs": [
    {
     "data": {
      "application/vnd.jupyter.widget-view+json": {
       "model_id": "",
       "version_major": 2,
       "version_minor": 0
      },
      "text/plain": [
       "FloatProgress(value=0.0, bar_style='info', description='Progress:', layout=Layout(height='25px', width='50%'),…"
      ]
     },
     "metadata": {},
     "output_type": "display_data"
    },
    {
     "data": {
      "text/html": [
       "<style>.jp-OutputArea-child .jupyter-widgets.jp-OutputArea-output { overflow: auto; }</style>"
      ],
      "text/plain": [
       "<IPython.core.display.HTML object>"
      ]
     },
     "metadata": {},
     "output_type": "display_data"
    },
    {
     "data": {
      "application/vnd.jupyter.widget-view+json": {
       "model_id": "8d47e3814f274715aee88e25cc2c066f",
       "version_major": 2,
       "version_minor": 0
      },
      "text/plain": [
       "VBox(children=(HBox(), EncodingWidget(children=(VBox(children=(HTML(value='Encoding:'), Dropdown(description='…"
      ]
     },
     "metadata": {},
     "output_type": "display_data"
    },
    {
     "data": {
      "application/vnd.jupyter.widget-view+json": {
       "model_id": "e840007b733346b08c11adfd26ba32e8",
       "version_major": 2,
       "version_minor": 0
      },
      "text/plain": [
       "Output()"
      ]
     },
     "metadata": {},
     "output_type": "display_data"
    }
   ],
   "source": [
    "%%sql\n",
    "--#Let's update a record and observe the snapshot\n",
    "UPDATE dev.db_sql.iceberg_table\n",
    "SET name = \"Prasad\"\n",
    "WHERE id = 2"
   ]
  },
  {
   "cell_type": "code",
   "execution_count": 72,
   "metadata": {
    "execution": {
     "iopub.execute_input": "2022-10-16T21:25:01.096795Z",
     "iopub.status.busy": "2022-10-16T21:25:01.096614Z",
     "iopub.status.idle": "2022-10-16T21:25:04.503638Z",
     "shell.execute_reply": "2022-10-16T21:25:04.502836Z",
     "shell.execute_reply.started": "2022-10-16T21:25:01.096773Z"
    },
    "tags": []
   },
   "outputs": [
    {
     "data": {
      "application/vnd.jupyter.widget-view+json": {
       "model_id": "",
       "version_major": 2,
       "version_minor": 0
      },
      "text/plain": [
       "FloatProgress(value=0.0, bar_style='info', description='Progress:', layout=Layout(height='25px', width='50%'),…"
      ]
     },
     "metadata": {},
     "output_type": "display_data"
    },
    {
     "data": {
      "text/html": [
       "<style>.jp-OutputArea-child .jupyter-widgets.jp-OutputArea-output { overflow: auto; }</style>"
      ],
      "text/plain": [
       "<IPython.core.display.HTML object>"
      ]
     },
     "metadata": {},
     "output_type": "display_data"
    },
    {
     "data": {
      "application/vnd.jupyter.widget-view+json": {
       "model_id": "0701146777114146b643e1213b2b7ca4",
       "version_major": 2,
       "version_minor": 0
      },
      "text/plain": [
       "VBox(children=(HBox(children=(HTML(value='Type:'), Button(description='Table', layout=Layout(width='70px'), st…"
      ]
     },
     "metadata": {},
     "output_type": "display_data"
    },
    {
     "data": {
      "application/vnd.jupyter.widget-view+json": {
       "model_id": "370851b345b24f90833cfd7f890ba55f",
       "version_major": 2,
       "version_minor": 0
      },
      "text/plain": [
       "Output()"
      ]
     },
     "metadata": {},
     "output_type": "display_data"
    }
   ],
   "source": [
    "%%sql\n",
    "--#Query the table and check if the record was updated with the new name\n",
    "select * from dev.db_sql.iceberg_table order by id"
   ]
  },
  {
   "cell_type": "code",
   "execution_count": 73,
   "metadata": {
    "execution": {
     "iopub.execute_input": "2022-10-16T21:26:00.743488Z",
     "iopub.status.busy": "2022-10-16T21:26:00.743257Z",
     "iopub.status.idle": "2022-10-16T21:26:02.144337Z",
     "shell.execute_reply": "2022-10-16T21:26:02.143788Z",
     "shell.execute_reply.started": "2022-10-16T21:26:00.743462Z"
    }
   },
   "outputs": [
    {
     "data": {
      "application/vnd.jupyter.widget-view+json": {
       "model_id": "",
       "version_major": 2,
       "version_minor": 0
      },
      "text/plain": [
       "FloatProgress(value=0.0, bar_style='info', description='Progress:', layout=Layout(height='25px', width='50%'),…"
      ]
     },
     "metadata": {},
     "output_type": "display_data"
    },
    {
     "data": {
      "text/html": [
       "<style>.jp-OutputArea-child .jupyter-widgets.jp-OutputArea-output { overflow: auto; }</style>"
      ],
      "text/plain": [
       "<IPython.core.display.HTML object>"
      ]
     },
     "metadata": {},
     "output_type": "display_data"
    },
    {
     "data": {
      "application/vnd.jupyter.widget-view+json": {
       "model_id": "3a3f40bdfe254a8c981d77aa0af36efe",
       "version_major": 2,
       "version_minor": 0
      },
      "text/plain": [
       "VBox(children=(HBox(children=(HTML(value='Type:'), Button(description='Table', layout=Layout(width='70px'), st…"
      ]
     },
     "metadata": {},
     "output_type": "display_data"
    },
    {
     "data": {
      "application/vnd.jupyter.widget-view+json": {
       "model_id": "d18bc5c12f2c4694b2fdd52a5b87328e",
       "version_major": 2,
       "version_minor": 0
      },
      "text/plain": [
       "Output()"
      ]
     },
     "metadata": {},
     "output_type": "display_data"
    }
   ],
   "source": [
    "%%sql\n",
    "--#Above DML statement has added new snapshots, lets check the snapshot and see if the operation is overwrite as it as an UPDATE statement\n",
    "SELECT * FROM dev.db_sql.iceberg_table.snapshots;"
   ]
  },
  {
   "cell_type": "markdown",
   "metadata": {},
   "source": [
    "> ## Deletes"
   ]
  },
  {
   "cell_type": "code",
   "execution_count": 75,
   "metadata": {
    "execution": {
     "iopub.execute_input": "2022-10-16T21:29:04.348497Z",
     "iopub.status.busy": "2022-10-16T21:29:04.348268Z",
     "iopub.status.idle": "2022-10-16T21:29:29.735692Z",
     "shell.execute_reply": "2022-10-16T21:29:29.735139Z",
     "shell.execute_reply.started": "2022-10-16T21:29:04.348472Z"
    },
    "tags": []
   },
   "outputs": [
    {
     "data": {
      "application/vnd.jupyter.widget-view+json": {
       "model_id": "",
       "version_major": 2,
       "version_minor": 0
      },
      "text/plain": [
       "FloatProgress(value=0.0, bar_style='info', description='Progress:', layout=Layout(height='25px', width='50%'),…"
      ]
     },
     "metadata": {},
     "output_type": "display_data"
    },
    {
     "data": {
      "text/html": [
       "<style>.jp-OutputArea-child .jupyter-widgets.jp-OutputArea-output { overflow: auto; }</style>"
      ],
      "text/plain": [
       "<IPython.core.display.HTML object>"
      ]
     },
     "metadata": {},
     "output_type": "display_data"
    },
    {
     "data": {
      "application/vnd.jupyter.widget-view+json": {
       "model_id": "8d63206b231f453697d2543771e5d25b",
       "version_major": 2,
       "version_minor": 0
      },
      "text/plain": [
       "VBox(children=(HBox(), EncodingWidget(children=(VBox(children=(HTML(value='Encoding:'), Dropdown(description='…"
      ]
     },
     "metadata": {},
     "output_type": "display_data"
    },
    {
     "data": {
      "application/vnd.jupyter.widget-view+json": {
       "model_id": "339daadc9fb844418e1a53dce10b5322",
       "version_major": 2,
       "version_minor": 0
      },
      "text/plain": [
       "Output()"
      ]
     },
     "metadata": {},
     "output_type": "display_data"
    }
   ],
   "source": [
    "%%sql\n",
    "--# Let's delete couple of records and see what happens\n",
    "DELETE FROM dev.db_sql.iceberg_table\n",
    "where id in (5,4)"
   ]
  },
  {
   "cell_type": "code",
   "execution_count": 76,
   "metadata": {
    "execution": {
     "iopub.execute_input": "2022-10-16T21:29:54.359429Z",
     "iopub.status.busy": "2022-10-16T21:29:54.359196Z",
     "iopub.status.idle": "2022-10-16T21:29:57.765944Z",
     "shell.execute_reply": "2022-10-16T21:29:57.765409Z",
     "shell.execute_reply.started": "2022-10-16T21:29:54.359405Z"
    }
   },
   "outputs": [
    {
     "data": {
      "application/vnd.jupyter.widget-view+json": {
       "model_id": "",
       "version_major": 2,
       "version_minor": 0
      },
      "text/plain": [
       "FloatProgress(value=0.0, bar_style='info', description='Progress:', layout=Layout(height='25px', width='50%'),…"
      ]
     },
     "metadata": {},
     "output_type": "display_data"
    },
    {
     "data": {
      "text/html": [
       "<style>.jp-OutputArea-child .jupyter-widgets.jp-OutputArea-output { overflow: auto; }</style>"
      ],
      "text/plain": [
       "<IPython.core.display.HTML object>"
      ]
     },
     "metadata": {},
     "output_type": "display_data"
    },
    {
     "data": {
      "application/vnd.jupyter.widget-view+json": {
       "model_id": "38a18e6319cb4a929793c30b32e35211",
       "version_major": 2,
       "version_minor": 0
      },
      "text/plain": [
       "VBox(children=(HBox(children=(HTML(value='Type:'), Button(description='Table', layout=Layout(width='70px'), st…"
      ]
     },
     "metadata": {},
     "output_type": "display_data"
    },
    {
     "data": {
      "application/vnd.jupyter.widget-view+json": {
       "model_id": "bd177f4238664875a1e65a1c836f45e7",
       "version_major": 2,
       "version_minor": 0
      },
      "text/plain": [
       "Output()"
      ]
     },
     "metadata": {},
     "output_type": "display_data"
    }
   ],
   "source": [
    "%%sql\n",
    "--#Query the table and check if the records were Deleted, should not see records with id 4 and 5\n",
    "select * from dev.db_sql.iceberg_table order by id"
   ]
  },
  {
   "cell_type": "code",
   "execution_count": 77,
   "metadata": {
    "execution": {
     "iopub.execute_input": "2022-10-16T21:31:35.627297Z",
     "iopub.status.busy": "2022-10-16T21:31:35.627031Z",
     "iopub.status.idle": "2022-10-16T21:31:45.062152Z",
     "shell.execute_reply": "2022-10-16T21:31:45.061507Z",
     "shell.execute_reply.started": "2022-10-16T21:31:35.627270Z"
    }
   },
   "outputs": [
    {
     "data": {
      "application/vnd.jupyter.widget-view+json": {
       "model_id": "",
       "version_major": 2,
       "version_minor": 0
      },
      "text/plain": [
       "FloatProgress(value=0.0, bar_style='info', description='Progress:', layout=Layout(height='25px', width='50%'),…"
      ]
     },
     "metadata": {},
     "output_type": "display_data"
    },
    {
     "data": {
      "text/html": [
       "<style>.jp-OutputArea-child .jupyter-widgets.jp-OutputArea-output { overflow: auto; }</style>"
      ],
      "text/plain": [
       "<IPython.core.display.HTML object>"
      ]
     },
     "metadata": {},
     "output_type": "display_data"
    },
    {
     "data": {
      "application/vnd.jupyter.widget-view+json": {
       "model_id": "e2022042a0cb449da42477427637df28",
       "version_major": 2,
       "version_minor": 0
      },
      "text/plain": [
       "VBox(children=(HBox(children=(HTML(value='Type:'), Button(description='Table', layout=Layout(width='70px'), st…"
      ]
     },
     "metadata": {},
     "output_type": "display_data"
    },
    {
     "data": {
      "application/vnd.jupyter.widget-view+json": {
       "model_id": "b60e98079905440a9ac42d019c8a4bdf",
       "version_major": 2,
       "version_minor": 0
      },
      "text/plain": [
       "Output()"
      ]
     },
     "metadata": {},
     "output_type": "display_data"
    }
   ],
   "source": [
    "%%sql\n",
    "--#Above DML statement has added new snapshots, lets check the snapshot and see if the operation is overwrite as it as DELETE statement, it will add a delete marker\n",
    "SELECT * FROM dev.db_sql.iceberg_table.snapshots;"
   ]
  },
  {
   "cell_type": "code",
   "execution_count": 78,
   "metadata": {
    "execution": {
     "iopub.execute_input": "2022-10-16T21:34:45.116816Z",
     "iopub.status.busy": "2022-10-16T21:34:45.116599Z",
     "iopub.status.idle": "2022-10-16T21:34:56.544808Z",
     "shell.execute_reply": "2022-10-16T21:34:56.544252Z",
     "shell.execute_reply.started": "2022-10-16T21:34:45.116791Z"
    }
   },
   "outputs": [
    {
     "data": {
      "application/vnd.jupyter.widget-view+json": {
       "model_id": "",
       "version_major": 2,
       "version_minor": 0
      },
      "text/plain": [
       "FloatProgress(value=0.0, bar_style='info', description='Progress:', layout=Layout(height='25px', width='50%'),…"
      ]
     },
     "metadata": {},
     "output_type": "display_data"
    },
    {
     "data": {
      "text/html": [
       "<style>.jp-OutputArea-child .jupyter-widgets.jp-OutputArea-output { overflow: auto; }</style>"
      ],
      "text/plain": [
       "<IPython.core.display.HTML object>"
      ]
     },
     "metadata": {},
     "output_type": "display_data"
    },
    {
     "data": {
      "application/vnd.jupyter.widget-view+json": {
       "model_id": "05e0731165f64120bfa7e1bdd5d48e72",
       "version_major": 2,
       "version_minor": 0
      },
      "text/plain": [
       "VBox(children=(HBox(children=(HTML(value='Type:'), Button(description='Table', layout=Layout(width='70px'), st…"
      ]
     },
     "metadata": {},
     "output_type": "display_data"
    },
    {
     "data": {
      "application/vnd.jupyter.widget-view+json": {
       "model_id": "2aeefb723cf24a25b150b21b31c8224b",
       "version_major": 2,
       "version_minor": 0
      },
      "text/plain": [
       "Output()"
      ]
     },
     "metadata": {},
     "output_type": "display_data"
    }
   ],
   "source": [
    "%%sql\n",
    "--#Manifest shows the number of deleted files\n",
    "SELECT * FROM dev.db_sql.iceberg_table.manifests"
   ]
  },
  {
   "cell_type": "markdown",
   "metadata": {},
   "source": [
    "> ## UPSERT\n",
    ">  UPSERT is very common scenario in traditional Data Warehousing paradigm popularly called \"Change Data Capture\" or \"CDC\" where changed or updated data along with new records and the ones marked for deletion from source is applied to the target DWH typically on a database, but now with the help of Iceberg the same CDC can be applied to your data on a more modern Datalake like \"S3\""
   ]
  },
  {
   "cell_type": "code",
   "execution_count": 84,
   "metadata": {
    "execution": {
     "iopub.execute_input": "2022-10-16T21:55:09.905006Z",
     "iopub.status.busy": "2022-10-16T21:55:09.904780Z",
     "iopub.status.idle": "2022-10-16T21:55:11.245564Z",
     "shell.execute_reply": "2022-10-16T21:55:11.244661Z",
     "shell.execute_reply.started": "2022-10-16T21:55:09.904979Z"
    },
    "tags": []
   },
   "outputs": [
    {
     "data": {
      "application/vnd.jupyter.widget-view+json": {
       "model_id": "",
       "version_major": 2,
       "version_minor": 0
      },
      "text/plain": [
       "FloatProgress(value=0.0, bar_style='info', description='Progress:', layout=Layout(height='25px', width='50%'),…"
      ]
     },
     "metadata": {},
     "output_type": "display_data"
    },
    {
     "data": {
      "text/html": [
       "<style>.jp-OutputArea-child .jupyter-widgets.jp-OutputArea-output { overflow: auto; }</style>"
      ],
      "text/plain": [
       "<IPython.core.display.HTML object>"
      ]
     },
     "metadata": {},
     "output_type": "display_data"
    },
    {
     "data": {
      "application/vnd.jupyter.widget-view+json": {
       "model_id": "c0e78c24cb094e578d29e1d739b03536",
       "version_major": 2,
       "version_minor": 0
      },
      "text/plain": [
       "VBox(children=(HBox(), EncodingWidget(children=(VBox(children=(HTML(value='Encoding:'), Dropdown(description='…"
      ]
     },
     "metadata": {},
     "output_type": "display_data"
    },
    {
     "data": {
      "application/vnd.jupyter.widget-view+json": {
       "model_id": "fff6163913cb42f0a360ea323291e24f",
       "version_major": 2,
       "version_minor": 0
      },
      "text/plain": [
       "Output()"
      ]
     },
     "metadata": {},
     "output_type": "display_data"
    }
   ],
   "source": [
    "%%sql\n",
    "--# Let's create a new table with CDC data\n",
    "CREATE TABLE IF NOT EXISTS dev.db_sql.iceberg_table_updates\n",
    "    (id Integer,\n",
    "     name String, \n",
    "     create_date String,             \n",
    "     last_update_time Timestamp,\n",
    "     change_type String)\n",
    "using iceberg"
   ]
  },
  {
   "cell_type": "code",
   "execution_count": 85,
   "metadata": {
    "execution": {
     "iopub.execute_input": "2022-10-16T21:59:12.605030Z",
     "iopub.status.busy": "2022-10-16T21:59:12.604804Z",
     "iopub.status.idle": "2022-10-16T21:59:23.945541Z",
     "shell.execute_reply": "2022-10-16T21:59:23.945006Z",
     "shell.execute_reply.started": "2022-10-16T21:59:12.605006Z"
    }
   },
   "outputs": [
    {
     "data": {
      "application/vnd.jupyter.widget-view+json": {
       "model_id": "",
       "version_major": 2,
       "version_minor": 0
      },
      "text/plain": [
       "FloatProgress(value=0.0, bar_style='info', description='Progress:', layout=Layout(height='25px', width='50%'),…"
      ]
     },
     "metadata": {},
     "output_type": "display_data"
    },
    {
     "data": {
      "text/html": [
       "<style>.jp-OutputArea-child .jupyter-widgets.jp-OutputArea-output { overflow: auto; }</style>"
      ],
      "text/plain": [
       "<IPython.core.display.HTML object>"
      ]
     },
     "metadata": {},
     "output_type": "display_data"
    },
    {
     "data": {
      "application/vnd.jupyter.widget-view+json": {
       "model_id": "3e15e82e67364d72b3294beeee3478fa",
       "version_major": 2,
       "version_minor": 0
      },
      "text/plain": [
       "VBox(children=(HBox(), EncodingWidget(children=(VBox(children=(HTML(value='Encoding:'), Dropdown(description='…"
      ]
     },
     "metadata": {},
     "output_type": "display_data"
    },
    {
     "data": {
      "application/vnd.jupyter.widget-view+json": {
       "model_id": "b8906a827c11491c8d0bebd1ed044474",
       "version_major": 2,
       "version_minor": 0
      },
      "text/plain": [
       "Output()"
      ]
     },
     "metadata": {},
     "output_type": "display_data"
    }
   ],
   "source": [
    "%%sql\n",
    "INSERT INTO dev.db_sql.iceberg_table_updates VALUES\n",
    "        (1, \"Christopher\", \"2020-01-01\", current_timestamp(), \"update\"),\n",
    "        (3, \"Emmeline\", \"2020-01-01\", current_timestamp(), \"update\"),\n",
    "        (6, \"Adam\", \"2020-01-01\", current_timestamp(), \"delete\"),\n",
    "        (7, \"Scott\", \"2020-01-02\", current_timestamp(), \"append\")"
   ]
  },
  {
   "cell_type": "code",
   "execution_count": 87,
   "metadata": {
    "execution": {
     "iopub.execute_input": "2022-10-16T22:05:21.274003Z",
     "iopub.status.busy": "2022-10-16T22:05:21.273778Z",
     "iopub.status.idle": "2022-10-16T22:05:34.619907Z",
     "shell.execute_reply": "2022-10-16T22:05:34.619355Z",
     "shell.execute_reply.started": "2022-10-16T22:05:21.273978Z"
    },
    "tags": []
   },
   "outputs": [
    {
     "data": {
      "application/vnd.jupyter.widget-view+json": {
       "model_id": "",
       "version_major": 2,
       "version_minor": 0
      },
      "text/plain": [
       "FloatProgress(value=0.0, bar_style='info', description='Progress:', layout=Layout(height='25px', width='50%'),…"
      ]
     },
     "metadata": {},
     "output_type": "display_data"
    },
    {
     "data": {
      "text/html": [
       "<style>.jp-OutputArea-child .jupyter-widgets.jp-OutputArea-output { overflow: auto; }</style>"
      ],
      "text/plain": [
       "<IPython.core.display.HTML object>"
      ]
     },
     "metadata": {},
     "output_type": "display_data"
    },
    {
     "data": {
      "application/vnd.jupyter.widget-view+json": {
       "model_id": "16ec1f3cc33d4165b2b6d4dcde4fb0e4",
       "version_major": 2,
       "version_minor": 0
      },
      "text/plain": [
       "VBox(children=(HBox(), EncodingWidget(children=(VBox(children=(HTML(value='Encoding:'), Dropdown(description='…"
      ]
     },
     "metadata": {},
     "output_type": "display_data"
    },
    {
     "data": {
      "application/vnd.jupyter.widget-view+json": {
       "model_id": "3386a7fc89254277ba6c2d59c677df96",
       "version_major": 2,
       "version_minor": 0
      },
      "text/plain": [
       "Output()"
      ]
     },
     "metadata": {},
     "output_type": "display_data"
    }
   ],
   "source": [
    "%%sql\n",
    "--#Let's Insert, Update and Delete records All in one go\n",
    "MERGE INTO dev.db_sql.iceberg_table tgt\n",
    "USING dev.db_sql.iceberg_table_updates src\n",
    "ON tgt.id = src.id\n",
    "WHEN MATCHED and src.change_type = 'update' THEN\n",
    "    UPDATE SET\n",
    "        id = src.id,\n",
    "        name = src.name,\n",
    "        create_date = src.create_date,\n",
    "        last_update_time = src.last_update_time\n",
    "WHEN MATCHED and src.change_type = 'delete' THEN DELETE\n",
    "when NOT MATCHED then INSERT *"
   ]
  },
  {
   "cell_type": "code",
   "execution_count": 88,
   "metadata": {
    "execution": {
     "iopub.execute_input": "2022-10-16T22:06:50.616086Z",
     "iopub.status.busy": "2022-10-16T22:06:50.615835Z",
     "iopub.status.idle": "2022-10-16T22:07:02.049183Z",
     "shell.execute_reply": "2022-10-16T22:07:02.048610Z",
     "shell.execute_reply.started": "2022-10-16T22:06:50.616058Z"
    }
   },
   "outputs": [
    {
     "data": {
      "application/vnd.jupyter.widget-view+json": {
       "model_id": "",
       "version_major": 2,
       "version_minor": 0
      },
      "text/plain": [
       "FloatProgress(value=0.0, bar_style='info', description='Progress:', layout=Layout(height='25px', width='50%'),…"
      ]
     },
     "metadata": {},
     "output_type": "display_data"
    },
    {
     "data": {
      "text/html": [
       "<style>.jp-OutputArea-child .jupyter-widgets.jp-OutputArea-output { overflow: auto; }</style>"
      ],
      "text/plain": [
       "<IPython.core.display.HTML object>"
      ]
     },
     "metadata": {},
     "output_type": "display_data"
    },
    {
     "data": {
      "application/vnd.jupyter.widget-view+json": {
       "model_id": "c28f7d7e63a646c3845c772b040a5d74",
       "version_major": 2,
       "version_minor": 0
      },
      "text/plain": [
       "VBox(children=(HBox(children=(HTML(value='Type:'), Button(description='Table', layout=Layout(width='70px'), st…"
      ]
     },
     "metadata": {},
     "output_type": "display_data"
    },
    {
     "data": {
      "application/vnd.jupyter.widget-view+json": {
       "model_id": "fb0adcfe14be4f44a76c4cc9eab54464",
       "version_major": 2,
       "version_minor": 0
      },
      "text/plain": [
       "Output()"
      ]
     },
     "metadata": {},
     "output_type": "display_data"
    }
   ],
   "source": [
    "%%sql\n",
    "--#Query teh table to check if CDC was applied to the target table on S3 datalake\n",
    "--# it should update Chris to Christopher and Emma to Emmeline\n",
    "--# should delete id# 6 Adam and \n",
    "--# Insert a new record Scott id# 7\n",
    "SELECT * FROM dev.db_sql.iceberg_table order by id;"
   ]
  },
  {
   "cell_type": "code",
   "execution_count": 91,
   "metadata": {
    "execution": {
     "iopub.execute_input": "2022-10-16T22:10:24.828406Z",
     "iopub.status.busy": "2022-10-16T22:10:24.828093Z",
     "iopub.status.idle": "2022-10-16T22:10:27.232387Z",
     "shell.execute_reply": "2022-10-16T22:10:27.231837Z",
     "shell.execute_reply.started": "2022-10-16T22:10:24.828382Z"
    },
    "tags": []
   },
   "outputs": [
    {
     "data": {
      "application/vnd.jupyter.widget-view+json": {
       "model_id": "",
       "version_major": 2,
       "version_minor": 0
      },
      "text/plain": [
       "FloatProgress(value=0.0, bar_style='info', description='Progress:', layout=Layout(height='25px', width='50%'),…"
      ]
     },
     "metadata": {},
     "output_type": "display_data"
    },
    {
     "data": {
      "text/html": [
       "<style>.jp-OutputArea-child .jupyter-widgets.jp-OutputArea-output { overflow: auto; }</style>"
      ],
      "text/plain": [
       "<IPython.core.display.HTML object>"
      ]
     },
     "metadata": {},
     "output_type": "display_data"
    },
    {
     "data": {
      "application/vnd.jupyter.widget-view+json": {
       "model_id": "810b353459764a10a1e3499d69bc71f1",
       "version_major": 2,
       "version_minor": 0
      },
      "text/plain": [
       "VBox(children=(HBox(children=(HTML(value='Type:'), Button(description='Table', layout=Layout(width='70px'), st…"
      ]
     },
     "metadata": {},
     "output_type": "display_data"
    },
    {
     "data": {
      "application/vnd.jupyter.widget-view+json": {
       "model_id": "43574778eeba412a8520ee256e203ec7",
       "version_major": 2,
       "version_minor": 0
      },
      "text/plain": [
       "Output()"
      ]
     },
     "metadata": {},
     "output_type": "display_data"
    }
   ],
   "source": [
    "%%sql\n",
    "--#query the metadata itself to see the file_format, size, lower and upper bounds etc\n",
    "SELECT * FROM dev.db_sql.iceberg_table.files;"
   ]
  },
  {
   "cell_type": "markdown",
   "metadata": {},
   "source": [
    "## Time Travel"
   ]
  },
  {
   "cell_type": "code",
   "execution_count": 95,
   "metadata": {
    "execution": {
     "iopub.execute_input": "2022-10-17T00:02:52.453583Z",
     "iopub.status.busy": "2022-10-17T00:02:52.453363Z",
     "iopub.status.idle": "2022-10-17T00:03:03.876423Z",
     "shell.execute_reply": "2022-10-17T00:03:03.875872Z",
     "shell.execute_reply.started": "2022-10-17T00:02:52.453558Z"
    },
    "tags": []
   },
   "outputs": [
    {
     "data": {
      "application/vnd.jupyter.widget-view+json": {
       "model_id": "",
       "version_major": 2,
       "version_minor": 0
      },
      "text/plain": [
       "FloatProgress(value=0.0, bar_style='info', description='Progress:', layout=Layout(height='25px', width='50%'),…"
      ]
     },
     "metadata": {},
     "output_type": "display_data"
    },
    {
     "data": {
      "text/html": [
       "<style>.jp-OutputArea-child .jupyter-widgets.jp-OutputArea-output { overflow: auto; }</style>"
      ],
      "text/plain": [
       "<IPython.core.display.HTML object>"
      ]
     },
     "metadata": {},
     "output_type": "display_data"
    },
    {
     "data": {
      "application/vnd.jupyter.widget-view+json": {
       "model_id": "ac281369472a4b5e9a9435b3da0b52b5",
       "version_major": 2,
       "version_minor": 0
      },
      "text/plain": [
       "VBox(children=(HBox(children=(HTML(value='Type:'), Button(description='Table', layout=Layout(width='70px'), st…"
      ]
     },
     "metadata": {},
     "output_type": "display_data"
    },
    {
     "data": {
      "application/vnd.jupyter.widget-view+json": {
       "model_id": "f975167c763644b1b00bae495d153e12",
       "version_major": 2,
       "version_minor": 0
      },
      "text/plain": [
       "Output()"
      ]
     },
     "metadata": {},
     "output_type": "display_data"
    }
   ],
   "source": [
    "%%sql\n",
    "SELECT * FROM dev.db_sql.iceberg_table TIMESTAMP AS OF \"2022-10-16 21:59:00\" order by id"
   ]
  },
  {
   "cell_type": "markdown",
   "metadata": {},
   "source": [
    "## Schema Evolution"
   ]
  },
  {
   "cell_type": "markdown",
   "metadata": {},
   "source": [
    "> ## Add Columns"
   ]
  },
  {
   "cell_type": "code",
   "execution_count": 117,
   "metadata": {
    "execution": {
     "iopub.execute_input": "2022-10-17T01:15:14.736778Z",
     "iopub.status.busy": "2022-10-17T01:15:14.736548Z",
     "iopub.status.idle": "2022-10-17T01:15:17.068218Z",
     "shell.execute_reply": "2022-10-17T01:15:17.067419Z",
     "shell.execute_reply.started": "2022-10-17T01:15:14.736752Z"
    },
    "tags": []
   },
   "outputs": [
    {
     "data": {
      "application/vnd.jupyter.widget-view+json": {
       "model_id": "",
       "version_major": 2,
       "version_minor": 0
      },
      "text/plain": [
       "FloatProgress(value=0.0, bar_style='info', description='Progress:', layout=Layout(height='25px', width='50%'),…"
      ]
     },
     "metadata": {},
     "output_type": "display_data"
    },
    {
     "data": {
      "text/html": [
       "<style>.jp-OutputArea-child .jupyter-widgets.jp-OutputArea-output { overflow: auto; }</style>"
      ],
      "text/plain": [
       "<IPython.core.display.HTML object>"
      ]
     },
     "metadata": {},
     "output_type": "display_data"
    },
    {
     "data": {
      "application/vnd.jupyter.widget-view+json": {
       "model_id": "00f2285e60474d5a9fdaa7d2cf94f43c",
       "version_major": 2,
       "version_minor": 0
      },
      "text/plain": [
       "VBox(children=(HBox(), EncodingWidget(children=(VBox(children=(HTML(value='Encoding:'), Dropdown(description='…"
      ]
     },
     "metadata": {},
     "output_type": "display_data"
    },
    {
     "data": {
      "application/vnd.jupyter.widget-view+json": {
       "model_id": "7b9bcc2bb14c42c8a8a4215030db7733",
       "version_major": 2,
       "version_minor": 0
      },
      "text/plain": [
       "Output()"
      ]
     },
     "metadata": {},
     "output_type": "display_data"
    }
   ],
   "source": [
    "%%sql\n",
    "--#Add a new column to iceberg_table table using SQL\n",
    "ALTER TABLE dev.db_sql.iceberg_table ADD COLUMNS (state string)"
   ]
  },
  {
   "cell_type": "code",
   "execution_count": 118,
   "metadata": {
    "execution": {
     "iopub.execute_input": "2022-10-17T01:15:19.780346Z",
     "iopub.status.busy": "2022-10-17T01:15:19.780123Z",
     "iopub.status.idle": "2022-10-17T01:15:29.211057Z",
     "shell.execute_reply": "2022-10-17T01:15:29.210497Z",
     "shell.execute_reply.started": "2022-10-17T01:15:19.780322Z"
    },
    "tags": []
   },
   "outputs": [
    {
     "data": {
      "application/vnd.jupyter.widget-view+json": {
       "model_id": "",
       "version_major": 2,
       "version_minor": 0
      },
      "text/plain": [
       "FloatProgress(value=0.0, bar_style='info', description='Progress:', layout=Layout(height='25px', width='50%'),…"
      ]
     },
     "metadata": {},
     "output_type": "display_data"
    },
    {
     "data": {
      "text/html": [
       "<style>.jp-OutputArea-child .jupyter-widgets.jp-OutputArea-output { overflow: auto; }</style>"
      ],
      "text/plain": [
       "<IPython.core.display.HTML object>"
      ]
     },
     "metadata": {},
     "output_type": "display_data"
    },
    {
     "data": {
      "application/vnd.jupyter.widget-view+json": {
       "model_id": "028735526d0a4ad880278f7bb09ba047",
       "version_major": 2,
       "version_minor": 0
      },
      "text/plain": [
       "VBox(children=(HBox(children=(HTML(value='Type:'), Button(description='Table', layout=Layout(width='70px'), st…"
      ]
     },
     "metadata": {},
     "output_type": "display_data"
    },
    {
     "data": {
      "application/vnd.jupyter.widget-view+json": {
       "model_id": "f90b445dff8040efbbb04bce5ddde01c",
       "version_major": 2,
       "version_minor": 0
      },
      "text/plain": [
       "Output()"
      ]
     },
     "metadata": {},
     "output_type": "display_data"
    }
   ],
   "source": [
    "%%sql\n",
    "desc table dev.db_sql.iceberg_table"
   ]
  },
  {
   "cell_type": "code",
   "execution_count": 124,
   "metadata": {
    "execution": {
     "iopub.execute_input": "2022-10-17T01:23:01.740766Z",
     "iopub.status.busy": "2022-10-17T01:23:01.740537Z",
     "iopub.status.idle": "2022-10-17T01:23:04.011505Z",
     "shell.execute_reply": "2022-10-17T01:23:04.010817Z",
     "shell.execute_reply.started": "2022-10-17T01:23:01.740742Z"
    },
    "tags": []
   },
   "outputs": [
    {
     "data": {
      "application/vnd.jupyter.widget-view+json": {
       "model_id": "09261244b2cc4c4396be09f1bf54f5aa",
       "version_major": 2,
       "version_minor": 0
      },
      "text/plain": [
       "VBox()"
      ]
     },
     "metadata": {},
     "output_type": "display_data"
    },
    {
     "data": {
      "application/vnd.jupyter.widget-view+json": {
       "model_id": "",
       "version_major": 2,
       "version_minor": 0
      },
      "text/plain": [
       "FloatProgress(value=0.0, bar_style='info', description='Progress:', layout=Layout(height='25px', width='50%'),…"
      ]
     },
     "metadata": {},
     "output_type": "display_data"
    },
    {
     "name": "stdout",
     "output_type": "stream",
     "text": [
      "DataFrame[]"
     ]
    }
   ],
   "source": [
    "#Add a new column to iceberg_table table using PySpark\n",
    "spark.sql(\"ALTER TABLE dev.db_ps.iceberg_table ADD COLUMNS (state string)\")"
   ]
  },
  {
   "cell_type": "code",
   "execution_count": 125,
   "metadata": {
    "execution": {
     "iopub.execute_input": "2022-10-17T01:23:06.152421Z",
     "iopub.status.busy": "2022-10-17T01:23:06.152198Z",
     "iopub.status.idle": "2022-10-17T01:23:06.401968Z",
     "shell.execute_reply": "2022-10-17T01:23:06.401270Z",
     "shell.execute_reply.started": "2022-10-17T01:23:06.152397Z"
    },
    "tags": []
   },
   "outputs": [
    {
     "data": {
      "application/vnd.jupyter.widget-view+json": {
       "model_id": "7386e4559cc8484e8779dcd8c75b51a7",
       "version_major": 2,
       "version_minor": 0
      },
      "text/plain": [
       "VBox()"
      ]
     },
     "metadata": {},
     "output_type": "display_data"
    },
    {
     "data": {
      "application/vnd.jupyter.widget-view+json": {
       "model_id": "",
       "version_major": 2,
       "version_minor": 0
      },
      "text/plain": [
       "FloatProgress(value=0.0, bar_style='info', description='Progress:', layout=Layout(height='25px', width='50%'),…"
      ]
     },
     "metadata": {},
     "output_type": "display_data"
    },
    {
     "name": "stdout",
     "output_type": "stream",
     "text": [
      "+----------------+---------+-------+\n",
      "|        col_name|data_type|comment|\n",
      "+----------------+---------+-------+\n",
      "|              id|   string|       |\n",
      "|            name|   string|       |\n",
      "|     create_date|   string|       |\n",
      "|last_update_time|   string|       |\n",
      "|           state|   string|       |\n",
      "|                |         |       |\n",
      "|  # Partitioning|         |       |\n",
      "| Not partitioned|         |       |\n",
      "+----------------+---------+-------+"
     ]
    }
   ],
   "source": [
    "spark.sql(\"DESC TABLE dev.db_ps.iceberg_table\").show()"
   ]
  },
  {
   "cell_type": "code",
   "execution_count": 104,
   "metadata": {
    "execution": {
     "iopub.execute_input": "2022-10-17T00:55:29.309415Z",
     "iopub.status.busy": "2022-10-17T00:55:29.309165Z",
     "iopub.status.idle": "2022-10-17T00:55:31.636339Z",
     "shell.execute_reply": "2022-10-17T00:55:31.635772Z",
     "shell.execute_reply.started": "2022-10-17T00:55:29.309389Z"
    },
    "tags": []
   },
   "outputs": [
    {
     "data": {
      "application/vnd.jupyter.widget-view+json": {
       "model_id": "",
       "version_major": 2,
       "version_minor": 0
      },
      "text/plain": [
       "FloatProgress(value=0.0, bar_style='info', description='Progress:', layout=Layout(height='25px', width='50%'),…"
      ]
     },
     "metadata": {},
     "output_type": "display_data"
    },
    {
     "data": {
      "text/html": [
       "<style>.jp-OutputArea-child .jupyter-widgets.jp-OutputArea-output { overflow: auto; }</style>"
      ],
      "text/plain": [
       "<IPython.core.display.HTML object>"
      ]
     },
     "metadata": {},
     "output_type": "display_data"
    },
    {
     "data": {
      "application/vnd.jupyter.widget-view+json": {
       "model_id": "cd0dfd8e30304ded9cecdc3550be1523",
       "version_major": 2,
       "version_minor": 0
      },
      "text/plain": [
       "VBox(children=(HBox(), EncodingWidget(children=(VBox(children=(HTML(value='Encoding:'), Dropdown(description='…"
      ]
     },
     "metadata": {},
     "output_type": "display_data"
    },
    {
     "data": {
      "application/vnd.jupyter.widget-view+json": {
       "model_id": "632d08ddda2040cfa6255f431a64bfeb",
       "version_major": 2,
       "version_minor": 0
      },
      "text/plain": [
       "Output()"
      ]
     },
     "metadata": {},
     "output_type": "display_data"
    }
   ],
   "source": [
    "%%sql\n",
    "--#Insert new record with a value for State using SQL\n",
    "INSERT INTO dev.db_sql.iceberg_table VALUES\n",
    "        (8, \"Jeff\", \"2020-01-01\", current_timestamp(), \"Washington\")"
   ]
  },
  {
   "cell_type": "code",
   "execution_count": 106,
   "metadata": {
    "execution": {
     "iopub.execute_input": "2022-10-17T00:56:06.828122Z",
     "iopub.status.busy": "2022-10-17T00:56:06.827808Z",
     "iopub.status.idle": "2022-10-17T00:56:07.752822Z",
     "shell.execute_reply": "2022-10-17T00:56:07.752233Z",
     "shell.execute_reply.started": "2022-10-17T00:56:06.828099Z"
    },
    "tags": []
   },
   "outputs": [
    {
     "data": {
      "application/vnd.jupyter.widget-view+json": {
       "model_id": "",
       "version_major": 2,
       "version_minor": 0
      },
      "text/plain": [
       "FloatProgress(value=0.0, bar_style='info', description='Progress:', layout=Layout(height='25px', width='50%'),…"
      ]
     },
     "metadata": {},
     "output_type": "display_data"
    },
    {
     "data": {
      "text/html": [
       "<style>.jp-OutputArea-child .jupyter-widgets.jp-OutputArea-output { overflow: auto; }</style>"
      ],
      "text/plain": [
       "<IPython.core.display.HTML object>"
      ]
     },
     "metadata": {},
     "output_type": "display_data"
    },
    {
     "data": {
      "application/vnd.jupyter.widget-view+json": {
       "model_id": "c035f4f2737048079293e3122d0922c9",
       "version_major": 2,
       "version_minor": 0
      },
      "text/plain": [
       "VBox(children=(HBox(children=(HTML(value='Type:'), Button(description='Table', layout=Layout(width='70px'), st…"
      ]
     },
     "metadata": {},
     "output_type": "display_data"
    },
    {
     "data": {
      "application/vnd.jupyter.widget-view+json": {
       "model_id": "e415dda91b87429ba432881e0488aef0",
       "version_major": 2,
       "version_minor": 0
      },
      "text/plain": [
       "Output()"
      ]
     },
     "metadata": {},
     "output_type": "display_data"
    }
   ],
   "source": [
    "%%sql\n",
    "--# Let's query the table using SQL and check if the new column was populated\n",
    "SELECT * FROM dev.db_sql.iceberg_table ORDER BY 1;"
   ]
  },
  {
   "cell_type": "code",
   "execution_count": 108,
   "metadata": {
    "execution": {
     "iopub.execute_input": "2022-10-17T01:01:36.507220Z",
     "iopub.status.busy": "2022-10-17T01:01:36.506962Z",
     "iopub.status.idle": "2022-10-17T01:01:47.800598Z",
     "shell.execute_reply": "2022-10-17T01:01:47.799967Z",
     "shell.execute_reply.started": "2022-10-17T01:01:36.507193Z"
    },
    "tags": []
   },
   "outputs": [
    {
     "data": {
      "application/vnd.jupyter.widget-view+json": {
       "model_id": "0ae3c4eba6e944489aabf589ab4568cb",
       "version_major": 2,
       "version_minor": 0
      },
      "text/plain": [
       "VBox()"
      ]
     },
     "metadata": {},
     "output_type": "display_data"
    },
    {
     "data": {
      "application/vnd.jupyter.widget-view+json": {
       "model_id": "",
       "version_major": 2,
       "version_minor": 0
      },
      "text/plain": [
       "FloatProgress(value=0.0, bar_style='info', description='Progress:', layout=Layout(height='25px', width='50%'),…"
      ]
     },
     "metadata": {},
     "output_type": "display_data"
    }
   ],
   "source": [
    "#Insert new record with a value for State using PySpark\n",
    "    \n",
    "data = [\n",
    "        (8, \"Jeff\", \"2020-01-01\", datetime.strptime('2020-01-03 00:00:00', '%Y-%m-%d %H:%M:%S'), \"Washington\")\n",
    "]\n",
    "\n",
    "schema = StructType([\n",
    "        StructField(\"id\", IntegerType(), False),\n",
    "        StructField(\"name\", StringType(), False), \n",
    "        StructField(\"create_date\", StringType(), False),             \n",
    "        StructField(\"last_update_time\", TimestampType(), False)  ,\n",
    "        StructField(\"state\", StringType(), False)\n",
    "])\n",
    "\n",
    "appendDF1 = spark.createDataFrame(data=data,schema=schema)\n",
    "\n",
    "appendDF1.writeTo(\"dev.db_ps.iceberg_table\").append()"
   ]
  },
  {
   "cell_type": "code",
   "execution_count": 111,
   "metadata": {
    "execution": {
     "iopub.execute_input": "2022-10-17T01:02:53.289338Z",
     "iopub.status.busy": "2022-10-17T01:02:53.289107Z",
     "iopub.status.idle": "2022-10-17T01:02:54.045690Z",
     "shell.execute_reply": "2022-10-17T01:02:54.045107Z",
     "shell.execute_reply.started": "2022-10-17T01:02:53.289314Z"
    },
    "tags": []
   },
   "outputs": [
    {
     "data": {
      "application/vnd.jupyter.widget-view+json": {
       "model_id": "60b960bab58240388c3b19385b903a9f",
       "version_major": 2,
       "version_minor": 0
      },
      "text/plain": [
       "VBox()"
      ]
     },
     "metadata": {},
     "output_type": "display_data"
    },
    {
     "data": {
      "application/vnd.jupyter.widget-view+json": {
       "model_id": "",
       "version_major": 2,
       "version_minor": 0
      },
      "text/plain": [
       "FloatProgress(value=0.0, bar_style='info', description='Progress:', layout=Layout(height='25px', width='50%'),…"
      ]
     },
     "metadata": {},
     "output_type": "display_data"
    },
    {
     "name": "stdout",
     "output_type": "stream",
     "text": [
      "+---+-----------+-----------+-------------------+----------+\n",
      "| id|       name|create_date|   last_update_time|     state|\n",
      "+---+-----------+-----------+-------------------+----------+\n",
      "|  1|Christopher| 2020-01-01|2020-01-02 00:00:00|      null|\n",
      "|  2|       Will| 2020-01-01|2020-01-01 00:00:00|      null|\n",
      "|  3|   Emmeline| 2020-01-01|2020-01-02 00:00:00|      null|\n",
      "|  4|       John| 2020-01-01|2020-01-01 00:00:00|      null|\n",
      "|  6|       Adam| 2020-01-01|2020-01-01 00:00:00|      null|\n",
      "|  7|     Prasad| 2020-01-02|2020-01-02 00:00:00|      null|\n",
      "|  8|       Bill| 2020-01-02|2020-01-03 00:00:00|      null|\n",
      "|  8|       Jeff| 2020-01-01|2020-01-03 00:00:00|Washington|\n",
      "+---+-----------+-----------+-------------------+----------+"
     ]
    }
   ],
   "source": [
    "spark.sql(\"SELECT * FROM dev.db_ps.iceberg_table order by 1\").show()"
   ]
  },
  {
   "cell_type": "markdown",
   "metadata": {},
   "source": [
    "## Rename Columns"
   ]
  },
  {
   "cell_type": "code",
   "execution_count": 120,
   "metadata": {
    "execution": {
     "iopub.execute_input": "2022-10-17T01:17:26.698833Z",
     "iopub.status.busy": "2022-10-17T01:17:26.698607Z",
     "iopub.status.idle": "2022-10-17T01:17:29.039107Z",
     "shell.execute_reply": "2022-10-17T01:17:29.038515Z",
     "shell.execute_reply.started": "2022-10-17T01:17:26.698808Z"
    },
    "tags": []
   },
   "outputs": [
    {
     "data": {
      "application/vnd.jupyter.widget-view+json": {
       "model_id": "",
       "version_major": 2,
       "version_minor": 0
      },
      "text/plain": [
       "FloatProgress(value=0.0, bar_style='info', description='Progress:', layout=Layout(height='25px', width='50%'),…"
      ]
     },
     "metadata": {},
     "output_type": "display_data"
    },
    {
     "data": {
      "text/html": [
       "<style>.jp-OutputArea-child .jupyter-widgets.jp-OutputArea-output { overflow: auto; }</style>"
      ],
      "text/plain": [
       "<IPython.core.display.HTML object>"
      ]
     },
     "metadata": {},
     "output_type": "display_data"
    },
    {
     "data": {
      "application/vnd.jupyter.widget-view+json": {
       "model_id": "b39503310d684d838eb4068c70f4553a",
       "version_major": 2,
       "version_minor": 0
      },
      "text/plain": [
       "VBox(children=(HBox(), EncodingWidget(children=(VBox(children=(HTML(value='Encoding:'), Dropdown(description='…"
      ]
     },
     "metadata": {},
     "output_type": "display_data"
    },
    {
     "data": {
      "application/vnd.jupyter.widget-view+json": {
       "model_id": "a681905399e4404eaabac65a191c6f14",
       "version_major": 2,
       "version_minor": 0
      },
      "text/plain": [
       "Output()"
      ]
     },
     "metadata": {},
     "output_type": "display_data"
    }
   ],
   "source": [
    "%%sql\n",
    "--#Rename column state to st in iceberg_table table using SQL\n",
    "ALTER TABLE dev.db_sql.iceberg_table RENAME COLUMN state TO st"
   ]
  },
  {
   "cell_type": "code",
   "execution_count": 121,
   "metadata": {
    "execution": {
     "iopub.execute_input": "2022-10-17T01:19:58.874209Z",
     "iopub.status.busy": "2022-10-17T01:19:58.873982Z",
     "iopub.status.idle": "2022-10-17T01:20:08.291828Z",
     "shell.execute_reply": "2022-10-17T01:20:08.291269Z",
     "shell.execute_reply.started": "2022-10-17T01:19:58.874184Z"
    }
   },
   "outputs": [
    {
     "data": {
      "application/vnd.jupyter.widget-view+json": {
       "model_id": "",
       "version_major": 2,
       "version_minor": 0
      },
      "text/plain": [
       "FloatProgress(value=0.0, bar_style='info', description='Progress:', layout=Layout(height='25px', width='50%'),…"
      ]
     },
     "metadata": {},
     "output_type": "display_data"
    },
    {
     "data": {
      "text/html": [
       "<style>.jp-OutputArea-child .jupyter-widgets.jp-OutputArea-output { overflow: auto; }</style>"
      ],
      "text/plain": [
       "<IPython.core.display.HTML object>"
      ]
     },
     "metadata": {},
     "output_type": "display_data"
    },
    {
     "data": {
      "application/vnd.jupyter.widget-view+json": {
       "model_id": "5e4d842107b44a35a482972238374a87",
       "version_major": 2,
       "version_minor": 0
      },
      "text/plain": [
       "VBox(children=(HBox(children=(HTML(value='Type:'), Button(description='Table', layout=Layout(width='70px'), st…"
      ]
     },
     "metadata": {},
     "output_type": "display_data"
    },
    {
     "data": {
      "application/vnd.jupyter.widget-view+json": {
       "model_id": "be02868934f04e368f791bfc80c07b61",
       "version_major": 2,
       "version_minor": 0
      },
      "text/plain": [
       "Output()"
      ]
     },
     "metadata": {},
     "output_type": "display_data"
    }
   ],
   "source": [
    "%%sql\n",
    "DESC TABLE dev.db_sql.iceberg_table"
   ]
  },
  {
   "cell_type": "code",
   "execution_count": 126,
   "metadata": {
    "execution": {
     "iopub.execute_input": "2022-10-17T01:23:38.657544Z",
     "iopub.status.busy": "2022-10-17T01:23:38.657315Z",
     "iopub.status.idle": "2022-10-17T01:23:40.920035Z",
     "shell.execute_reply": "2022-10-17T01:23:40.919448Z",
     "shell.execute_reply.started": "2022-10-17T01:23:38.657519Z"
    },
    "tags": []
   },
   "outputs": [
    {
     "data": {
      "application/vnd.jupyter.widget-view+json": {
       "model_id": "3537d0175b1b4ff9916205d83ed0381e",
       "version_major": 2,
       "version_minor": 0
      },
      "text/plain": [
       "VBox()"
      ]
     },
     "metadata": {},
     "output_type": "display_data"
    },
    {
     "data": {
      "application/vnd.jupyter.widget-view+json": {
       "model_id": "",
       "version_major": 2,
       "version_minor": 0
      },
      "text/plain": [
       "FloatProgress(value=0.0, bar_style='info', description='Progress:', layout=Layout(height='25px', width='50%'),…"
      ]
     },
     "metadata": {},
     "output_type": "display_data"
    },
    {
     "name": "stdout",
     "output_type": "stream",
     "text": [
      "DataFrame[]"
     ]
    }
   ],
   "source": [
    "#Add a new column to iceberg_table table using PySpark\n",
    "spark.sql(\"ALTER TABLE dev.db_ps.iceberg_table RENAME COLUMN state TO st\")"
   ]
  },
  {
   "cell_type": "code",
   "execution_count": 127,
   "metadata": {
    "execution": {
     "iopub.execute_input": "2022-10-17T01:24:03.264842Z",
     "iopub.status.busy": "2022-10-17T01:24:03.264620Z",
     "iopub.status.idle": "2022-10-17T01:24:03.515861Z",
     "shell.execute_reply": "2022-10-17T01:24:03.515252Z",
     "shell.execute_reply.started": "2022-10-17T01:24:03.264817Z"
    }
   },
   "outputs": [
    {
     "data": {
      "application/vnd.jupyter.widget-view+json": {
       "model_id": "fd16432a15394e6b8c2ff20f1445e380",
       "version_major": 2,
       "version_minor": 0
      },
      "text/plain": [
       "VBox()"
      ]
     },
     "metadata": {},
     "output_type": "display_data"
    },
    {
     "data": {
      "application/vnd.jupyter.widget-view+json": {
       "model_id": "",
       "version_major": 2,
       "version_minor": 0
      },
      "text/plain": [
       "FloatProgress(value=0.0, bar_style='info', description='Progress:', layout=Layout(height='25px', width='50%'),…"
      ]
     },
     "metadata": {},
     "output_type": "display_data"
    },
    {
     "name": "stdout",
     "output_type": "stream",
     "text": [
      "+----------------+---------+-------+\n",
      "|        col_name|data_type|comment|\n",
      "+----------------+---------+-------+\n",
      "|              id|   string|       |\n",
      "|            name|   string|       |\n",
      "|     create_date|   string|       |\n",
      "|last_update_time|   string|       |\n",
      "|              st|   string|       |\n",
      "|                |         |       |\n",
      "|  # Partitioning|         |       |\n",
      "| Not partitioned|         |       |\n",
      "+----------------+---------+-------+"
     ]
    }
   ],
   "source": [
    "spark.sql(\"DESC TABLE dev.db_ps.iceberg_table\").show()"
   ]
  },
  {
   "cell_type": "markdown",
   "metadata": {},
   "source": [
    "## Drop Columns"
   ]
  },
  {
   "cell_type": "code",
   "execution_count": 112,
   "metadata": {
    "execution": {
     "iopub.execute_input": "2022-10-17T01:04:13.442056Z",
     "iopub.status.busy": "2022-10-17T01:04:13.441816Z",
     "iopub.status.idle": "2022-10-17T01:04:15.776717Z",
     "shell.execute_reply": "2022-10-17T01:04:15.776164Z",
     "shell.execute_reply.started": "2022-10-17T01:04:13.442031Z"
    }
   },
   "outputs": [
    {
     "data": {
      "application/vnd.jupyter.widget-view+json": {
       "model_id": "",
       "version_major": 2,
       "version_minor": 0
      },
      "text/plain": [
       "FloatProgress(value=0.0, bar_style='info', description='Progress:', layout=Layout(height='25px', width='50%'),…"
      ]
     },
     "metadata": {},
     "output_type": "display_data"
    },
    {
     "data": {
      "text/html": [
       "<style>.jp-OutputArea-child .jupyter-widgets.jp-OutputArea-output { overflow: auto; }</style>"
      ],
      "text/plain": [
       "<IPython.core.display.HTML object>"
      ]
     },
     "metadata": {},
     "output_type": "display_data"
    },
    {
     "data": {
      "application/vnd.jupyter.widget-view+json": {
       "model_id": "871f506f4bca4fdc85808f84a5aa964d",
       "version_major": 2,
       "version_minor": 0
      },
      "text/plain": [
       "VBox(children=(HBox(), EncodingWidget(children=(VBox(children=(HTML(value='Encoding:'), Dropdown(description='…"
      ]
     },
     "metadata": {},
     "output_type": "display_data"
    },
    {
     "data": {
      "application/vnd.jupyter.widget-view+json": {
       "model_id": "6b2bbc51bd2e46ee9f6d3ac5045449ba",
       "version_major": 2,
       "version_minor": 0
      },
      "text/plain": [
       "Output()"
      ]
     },
     "metadata": {},
     "output_type": "display_data"
    }
   ],
   "source": [
    "%%sql\n",
    "--#Drop column state from iceberg_table table using SQL\n",
    "ALTER TABLE dev.db_sql.iceberg_table DROP COLUMN state"
   ]
  },
  {
   "cell_type": "code",
   "execution_count": 113,
   "metadata": {
    "execution": {
     "iopub.execute_input": "2022-10-17T01:05:55.658025Z",
     "iopub.status.busy": "2022-10-17T01:05:55.657782Z",
     "iopub.status.idle": "2022-10-17T01:06:05.074095Z",
     "shell.execute_reply": "2022-10-17T01:06:05.073510Z",
     "shell.execute_reply.started": "2022-10-17T01:05:55.658000Z"
    }
   },
   "outputs": [
    {
     "data": {
      "application/vnd.jupyter.widget-view+json": {
       "model_id": "",
       "version_major": 2,
       "version_minor": 0
      },
      "text/plain": [
       "FloatProgress(value=0.0, bar_style='info', description='Progress:', layout=Layout(height='25px', width='50%'),…"
      ]
     },
     "metadata": {},
     "output_type": "display_data"
    },
    {
     "data": {
      "text/html": [
       "<style>.jp-OutputArea-child .jupyter-widgets.jp-OutputArea-output { overflow: auto; }</style>"
      ],
      "text/plain": [
       "<IPython.core.display.HTML object>"
      ]
     },
     "metadata": {},
     "output_type": "display_data"
    },
    {
     "data": {
      "application/vnd.jupyter.widget-view+json": {
       "model_id": "f97fc42a57bb4965b6defa7d5bd9b1a0",
       "version_major": 2,
       "version_minor": 0
      },
      "text/plain": [
       "VBox(children=(HBox(children=(HTML(value='Type:'), Button(description='Table', layout=Layout(width='70px'), st…"
      ]
     },
     "metadata": {},
     "output_type": "display_data"
    },
    {
     "data": {
      "application/vnd.jupyter.widget-view+json": {
       "model_id": "4246ab2efebf4b7c875ecfbc3ec2a5ed",
       "version_major": 2,
       "version_minor": 0
      },
      "text/plain": [
       "Output()"
      ]
     },
     "metadata": {},
     "output_type": "display_data"
    }
   ],
   "source": [
    "%%sql\n",
    "--# as shown below column state is now not part of the table anymore (BUT state column is still avaiable on Glue Catalog, Athena still shows this column)\n",
    "desc table dev.db_sql.iceberg_table"
   ]
  },
  {
   "cell_type": "code",
   "execution_count": 114,
   "metadata": {
    "execution": {
     "iopub.execute_input": "2022-10-17T01:13:14.361395Z",
     "iopub.status.busy": "2022-10-17T01:13:14.361167Z",
     "iopub.status.idle": "2022-10-17T01:13:17.642622Z",
     "shell.execute_reply": "2022-10-17T01:13:17.641854Z",
     "shell.execute_reply.started": "2022-10-17T01:13:14.361362Z"
    }
   },
   "outputs": [
    {
     "data": {
      "application/vnd.jupyter.widget-view+json": {
       "model_id": "ccc9f4ae06db48a0811fbfebe045bd2b",
       "version_major": 2,
       "version_minor": 0
      },
      "text/plain": [
       "VBox()"
      ]
     },
     "metadata": {},
     "output_type": "display_data"
    },
    {
     "data": {
      "application/vnd.jupyter.widget-view+json": {
       "model_id": "",
       "version_major": 2,
       "version_minor": 0
      },
      "text/plain": [
       "FloatProgress(value=0.0, bar_style='info', description='Progress:', layout=Layout(height='25px', width='50%'),…"
      ]
     },
     "metadata": {},
     "output_type": "display_data"
    },
    {
     "name": "stdout",
     "output_type": "stream",
     "text": [
      "DataFrame[]"
     ]
    }
   ],
   "source": [
    "spark.sql(\"ALTER TABLE dev.db_ps.iceberg_table DROP COLUMN state\")"
   ]
  },
  {
   "cell_type": "code",
   "execution_count": 116,
   "metadata": {
    "execution": {
     "iopub.execute_input": "2022-10-17T01:13:38.763319Z",
     "iopub.status.busy": "2022-10-17T01:13:38.763057Z",
     "iopub.status.idle": "2022-10-17T01:13:39.021479Z",
     "shell.execute_reply": "2022-10-17T01:13:39.020849Z",
     "shell.execute_reply.started": "2022-10-17T01:13:38.763294Z"
    },
    "tags": []
   },
   "outputs": [
    {
     "data": {
      "application/vnd.jupyter.widget-view+json": {
       "model_id": "a92a90bf79784c76b13e7434d0e36a67",
       "version_major": 2,
       "version_minor": 0
      },
      "text/plain": [
       "VBox()"
      ]
     },
     "metadata": {},
     "output_type": "display_data"
    },
    {
     "data": {
      "application/vnd.jupyter.widget-view+json": {
       "model_id": "",
       "version_major": 2,
       "version_minor": 0
      },
      "text/plain": [
       "FloatProgress(value=0.0, bar_style='info', description='Progress:', layout=Layout(height='25px', width='50%'),…"
      ]
     },
     "metadata": {},
     "output_type": "display_data"
    },
    {
     "name": "stdout",
     "output_type": "stream",
     "text": [
      "+----------------+---------+-------+\n",
      "|        col_name|data_type|comment|\n",
      "+----------------+---------+-------+\n",
      "|              id|   string|       |\n",
      "|            name|   string|       |\n",
      "|     create_date|   string|       |\n",
      "|last_update_time|   string|       |\n",
      "|                |         |       |\n",
      "|  # Partitioning|         |       |\n",
      "| Not partitioned|         |       |\n",
      "+----------------+---------+-------+"
     ]
    }
   ],
   "source": [
    "spark.sql(\"desc table dev.db_sql.iceberg_table\").show()"
   ]
  },
  {
   "cell_type": "code",
   "execution_count": null,
   "metadata": {},
   "outputs": [],
   "source": []
  }
 ],
 "metadata": {
  "kernelspec": {
   "display_name": "PySpark",
   "language": "python",
   "name": "pysparkkernel"
  },
  "language_info": {
   "codemirror_mode": {
    "name": "python",
    "version": 3
   },
   "file_extension": ".py",
   "mimetype": "text/x-python",
   "name": "pyspark",
   "pygments_lexer": "python3"
  }
 },
 "nbformat": 4,
 "nbformat_minor": 4
}
